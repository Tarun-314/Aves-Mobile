{
 "cells": [
  {
   "cell_type": "code",
   "execution_count": 19,
   "metadata": {
    "_cell_guid": "b1076dfc-b9ad-4769-8c92-a6c4dae69d19",
    "_uuid": "8f2839f25d086af736a60e9eeb907d3b93b6e0e5",
    "execution": {
     "iopub.execute_input": "2022-10-16T08:24:03.894984Z",
     "iopub.status.busy": "2022-10-16T08:24:03.894625Z",
     "iopub.status.idle": "2022-10-16T08:24:35.996373Z",
     "shell.execute_reply": "2022-10-16T08:24:35.99541Z",
     "shell.execute_reply.started": "2022-10-16T08:24:03.894953Z"
    }
   },
   "outputs": [],
   "source": [
    "# This Python 3 environment comes with many helpful analytics libraries installed\n",
    "# It is defined by the kaggle/python Docker image: https://github.com/kaggle/docker-python\n",
    "# For example, here's several helpful packages to load\n",
    "\n",
    "import numpy as np # linear algebra\n",
    "import pandas as pd # data processing, CSV file I/O (e.g. pd.read_csv)\n",
    "# For example, running this (by clicking run or pressing Shift+Enter) will list all files under the input directory\n",
    "\n",
    "import os\n",
    "for dirname, _, filenames in os.walk('/kaggle/input'):\n",
    "    for filename in filenames:\n",
    "        print(os.path.join(dirname, filename))\n",
    "\n",
    "# You can write up to 20GB to the current directory (/kaggle/working/) that gets preserved as output when you create a version using \"Save & Run All\" \n",
    "# You can also write temporary files to /kaggle/temp/, but they won't be saved outside of the current session"
   ]
  },
  {
   "cell_type": "code",
   "execution_count": 1,
   "metadata": {
    "execution": {
     "iopub.execute_input": "2022-10-16T08:24:35.9994Z",
     "iopub.status.busy": "2022-10-16T08:24:35.998695Z",
     "iopub.status.idle": "2022-10-16T08:24:39.683845Z",
     "shell.execute_reply": "2022-10-16T08:24:39.682919Z",
     "shell.execute_reply.started": "2022-10-16T08:24:35.999344Z"
    }
   },
   "outputs": [],
   "source": [
    "import numpy as np\n",
    "import pandas as pd\n",
    "import os\n",
    "\n",
    "import tensorflow as tf"
   ]
  },
  {
   "cell_type": "code",
   "execution_count": 5,
   "metadata": {
    "execution": {
     "iopub.execute_input": "2022-10-16T08:24:39.686003Z",
     "iopub.status.busy": "2022-10-16T08:24:39.685373Z",
     "iopub.status.idle": "2022-10-16T08:24:39.695855Z",
     "shell.execute_reply": "2022-10-16T08:24:39.694647Z",
     "shell.execute_reply.started": "2022-10-16T08:24:39.685966Z"
    }
   },
   "outputs": [
    {
     "ename": "FileNotFoundError",
     "evalue": "[WinError 3] The system cannot find the path specified: 'D:jupyter\\\\ps\\test'",
     "output_type": "error",
     "traceback": [
      "\u001b[1;31m---------------------------------------------------------------------------\u001b[0m",
      "\u001b[1;31mFileNotFoundError\u001b[0m                         Traceback (most recent call last)",
      "Input \u001b[1;32mIn [5]\u001b[0m, in \u001b[0;36m<cell line: 2>\u001b[1;34m()\u001b[0m\n\u001b[0;32m      1\u001b[0m \u001b[38;5;66;03m# Getting The Number Of ClassNames\u001b[39;00m\n\u001b[1;32m----> 2\u001b[0m num_of_bird_groups \u001b[38;5;241m=\u001b[39m \u001b[38;5;28mlen\u001b[39m(\u001b[43mos\u001b[49m\u001b[38;5;241;43m.\u001b[39;49m\u001b[43mlistdir\u001b[49m\u001b[43m(\u001b[49m\u001b[38;5;124;43m'\u001b[39;49m\u001b[38;5;124;43mD:jupyter\u001b[39;49m\u001b[38;5;124;43m\\\u001b[39;49m\u001b[38;5;124;43mps\u001b[39;49m\u001b[38;5;130;43;01m\\t\u001b[39;49;00m\u001b[38;5;124;43mest\u001b[39;49m\u001b[38;5;124;43m'\u001b[39;49m\u001b[43m)\u001b[49m)\n\u001b[0;32m      3\u001b[0m num_of_bird_groups\n",
      "\u001b[1;31mFileNotFoundError\u001b[0m: [WinError 3] The system cannot find the path specified: 'D:jupyter\\\\ps\\test'"
     ]
    }
   ],
   "source": [
    "# Getting The Number Of ClassNames\n",
    "num_of_bird_groups = len(os.listdir('test'))\n",
    "num_of_bird_groups"
   ]
  },
  {
   "cell_type": "code",
   "execution_count": 2,
   "metadata": {
    "execution": {
     "iopub.execute_input": "2022-10-16T08:24:39.697741Z",
     "iopub.status.busy": "2022-10-16T08:24:39.697302Z",
     "iopub.status.idle": "2022-10-16T08:24:39.709311Z",
     "shell.execute_reply": "2022-10-16T08:24:39.707731Z",
     "shell.execute_reply.started": "2022-10-16T08:24:39.697706Z"
    }
   },
   "outputs": [],
   "source": [
    "# Getting The ClassNames\n",
    "import pathlib\n",
    "\n",
    "# data_dir = pathlib.Path('../input/100-bird-species/train')\n",
    "# classnames = np.array(sorted([item.name for item in data_dir.glob('*')]))\n",
    "# print(classnames)"
   ]
  },
  {
   "cell_type": "code",
   "execution_count": null,
   "metadata": {
    "execution": {
     "iopub.execute_input": "2022-10-16T08:24:39.714347Z",
     "iopub.status.busy": "2022-10-16T08:24:39.712073Z",
     "iopub.status.idle": "2022-10-16T08:24:39.720277Z",
     "shell.execute_reply": "2022-10-16T08:24:39.719141Z",
     "shell.execute_reply.started": "2022-10-16T08:24:39.714302Z"
    }
   },
   "outputs": [],
   "source": [
    "len(classnames)"
   ]
  },
  {
   "cell_type": "code",
   "execution_count": 3,
   "metadata": {
    "execution": {
     "iopub.execute_input": "2022-10-16T08:24:39.722207Z",
     "iopub.status.busy": "2022-10-16T08:24:39.721822Z",
     "iopub.status.idle": "2022-10-16T08:24:39.999905Z",
     "shell.execute_reply": "2022-10-16T08:24:39.999009Z",
     "shell.execute_reply.started": "2022-10-16T08:24:39.722174Z"
    }
   },
   "outputs": [],
   "source": [
    "import matplotlib.pyplot as plt\n",
    "from PIL import Image\n",
    "# img=Image.open('../input/100-bird-species/test/AFRICAN CROWNED CRANE/3.jpg')\n",
    "# plt.imshow(img)"
   ]
  },
  {
   "cell_type": "code",
   "execution_count": null,
   "metadata": {
    "execution": {
     "iopub.execute_input": "2022-10-16T08:24:40.001522Z",
     "iopub.status.busy": "2022-10-16T08:24:40.00114Z",
     "iopub.status.idle": "2022-10-16T08:24:40.235093Z",
     "shell.execute_reply": "2022-10-16T08:24:40.234239Z",
     "shell.execute_reply.started": "2022-10-16T08:24:40.001478Z"
    }
   },
   "outputs": [],
   "source": [
    "img1=Image.open('../input/100-bird-species/test/APOSTLEBIRD/4.jpg')\n",
    "plt.imshow(img1)"
   ]
  },
  {
   "cell_type": "code",
   "execution_count": null,
   "metadata": {
    "execution": {
     "iopub.execute_input": "2022-10-16T08:24:40.237345Z",
     "iopub.status.busy": "2022-10-16T08:24:40.236392Z",
     "iopub.status.idle": "2022-10-16T08:24:40.521131Z",
     "shell.execute_reply": "2022-10-16T08:24:40.520321Z",
     "shell.execute_reply.started": "2022-10-16T08:24:40.237285Z"
    }
   },
   "outputs": [],
   "source": [
    "img2=Image.open('../input/100-bird-species/test/BARRED PUFFBIRD/3.jpg')\n",
    "plt.imshow(img2)"
   ]
  },
  {
   "cell_type": "markdown",
   "metadata": {},
   "source": [
    "PREPROCESSING\n"
   ]
  },
  {
   "cell_type": "code",
   "execution_count": 4,
   "metadata": {
    "execution": {
     "iopub.execute_input": "2022-10-16T08:24:40.523084Z",
     "iopub.status.busy": "2022-10-16T08:24:40.522442Z",
     "iopub.status.idle": "2022-10-16T08:24:41.686147Z",
     "shell.execute_reply": "2022-10-16T08:24:41.685194Z",
     "shell.execute_reply.started": "2022-10-16T08:24:40.523045Z"
    }
   },
   "outputs": [],
   "source": [
    "from tensorflow.keras.preprocessing.image import ImageDataGenerator"
   ]
  },
  {
   "cell_type": "code",
   "execution_count": 5,
   "metadata": {
    "execution": {
     "iopub.execute_input": "2022-10-16T08:24:41.688124Z",
     "iopub.status.busy": "2022-10-16T08:24:41.687743Z",
     "iopub.status.idle": "2022-10-16T08:24:41.697939Z",
     "shell.execute_reply": "2022-10-16T08:24:41.69204Z",
     "shell.execute_reply.started": "2022-10-16T08:24:41.688086Z"
    }
   },
   "outputs": [],
   "source": [
    "train_dir='New_train'\n",
    "test_dir='New_test'\n",
    "val_dir='New_valid'"
   ]
  },
  {
   "cell_type": "code",
   "execution_count": 6,
   "metadata": {
    "execution": {
     "iopub.execute_input": "2022-10-16T08:24:41.701251Z",
     "iopub.status.busy": "2022-10-16T08:24:41.700862Z",
     "iopub.status.idle": "2022-10-16T08:24:41.718699Z",
     "shell.execute_reply": "2022-10-16T08:24:41.717725Z",
     "shell.execute_reply.started": "2022-10-16T08:24:41.701212Z"
    }
   },
   "outputs": [],
   "source": [
    "train_datagen = ImageDataGenerator(rescale=1/255.)\n",
    "test_datagen = ImageDataGenerator(rescale=1/255.)\n",
    "val_datagen = ImageDataGenerator(rescale=1/255.)"
   ]
  },
  {
   "cell_type": "code",
   "execution_count": 7,
   "metadata": {
    "execution": {
     "iopub.execute_input": "2022-10-16T08:24:41.722055Z",
     "iopub.status.busy": "2022-10-16T08:24:41.721306Z",
     "iopub.status.idle": "2022-10-16T08:24:45.115633Z",
     "shell.execute_reply": "2022-10-16T08:24:45.114544Z",
     "shell.execute_reply.started": "2022-10-16T08:24:41.72202Z"
    }
   },
   "outputs": [
    {
     "name": "stdout",
     "output_type": "stream",
     "text": [
      "Found 10000 images belonging to 100 classes.\n"
     ]
    }
   ],
   "source": [
    "train_datagen=train_datagen.flow_from_directory(train_dir,batch_size=32,target_size=(224,224),class_mode='categorical',)"
   ]
  },
  {
   "cell_type": "code",
   "execution_count": 8,
   "metadata": {
    "execution": {
     "iopub.execute_input": "2022-10-16T08:24:45.118997Z",
     "iopub.status.busy": "2022-10-16T08:24:45.11702Z",
     "iopub.status.idle": "2022-10-16T08:24:45.467128Z",
     "shell.execute_reply": "2022-10-16T08:24:45.466118Z",
     "shell.execute_reply.started": "2022-10-16T08:24:45.118956Z"
    }
   },
   "outputs": [
    {
     "name": "stdout",
     "output_type": "stream",
     "text": [
      "Found 500 images belonging to 100 classes.\n"
     ]
    }
   ],
   "source": [
    "test_datagen=test_datagen.flow_from_directory(test_dir,batch_size=32,target_size=(224,224),class_mode='categorical')"
   ]
  },
  {
   "cell_type": "code",
   "execution_count": 9,
   "metadata": {
    "execution": {
     "iopub.execute_input": "2022-10-16T08:24:45.472133Z",
     "iopub.status.busy": "2022-10-16T08:24:45.471492Z",
     "iopub.status.idle": "2022-10-16T08:24:45.830564Z",
     "shell.execute_reply": "2022-10-16T08:24:45.829595Z",
     "shell.execute_reply.started": "2022-10-16T08:24:45.472096Z"
    }
   },
   "outputs": [
    {
     "name": "stdout",
     "output_type": "stream",
     "text": [
      "Found 500 images belonging to 100 classes.\n"
     ]
    }
   ],
   "source": [
    "val_datagen=val_datagen.flow_from_directory(val_dir,batch_size=32,target_size=(224,224),class_mode='categorical')"
   ]
  },
  {
   "cell_type": "code",
   "execution_count": 10,
   "metadata": {
    "execution": {
     "iopub.execute_input": "2022-10-16T08:38:23.726887Z",
     "iopub.status.busy": "2022-10-16T08:38:23.726529Z",
     "iopub.status.idle": "2022-10-16T08:38:23.741757Z",
     "shell.execute_reply": "2022-10-16T08:38:23.74088Z",
     "shell.execute_reply.started": "2022-10-16T08:38:23.726855Z"
    }
   },
   "outputs": [],
   "source": [
    "data_aug=tf.keras.Sequential(\n",
    "[\n",
    "    tf.keras.layers.RandomFlip(\"horizontal_and_vertical\"),\n",
    "    tf.keras.layers.RandomZoom(0.2),\n",
    "],name='AugmentationLayer')"
   ]
  },
  {
   "cell_type": "code",
   "execution_count": 11,
   "metadata": {
    "execution": {
     "iopub.execute_input": "2022-10-16T08:38:24.63539Z",
     "iopub.status.busy": "2022-10-16T08:38:24.635004Z",
     "iopub.status.idle": "2022-10-16T08:38:26.446449Z",
     "shell.execute_reply": "2022-10-16T08:38:26.44547Z",
     "shell.execute_reply.started": "2022-10-16T08:38:24.635355Z"
    }
   },
   "outputs": [],
   "source": [
    "model= tf.keras.applications.InceptionV3(include_top=False)\n",
    "model.trainable=False"
   ]
  },
  {
   "cell_type": "code",
   "execution_count": 12,
   "metadata": {
    "execution": {
     "iopub.execute_input": "2022-10-16T08:38:26.448832Z",
     "iopub.status.busy": "2022-10-16T08:38:26.448479Z",
     "iopub.status.idle": "2022-10-16T08:38:27.249756Z",
     "shell.execute_reply": "2022-10-16T08:38:27.248659Z",
     "shell.execute_reply.started": "2022-10-16T08:38:26.448797Z"
    }
   },
   "outputs": [],
   "source": [
    "inputs=tf.keras.layers.Input(shape=(224,224,3))\n",
    "x=data_aug(inputs)\n",
    "x=model(x,training=False)"
   ]
  },
  {
   "cell_type": "code",
   "execution_count": 13,
   "metadata": {
    "execution": {
     "iopub.execute_input": "2022-10-16T08:38:27.2522Z",
     "iopub.status.busy": "2022-10-16T08:38:27.251867Z",
     "iopub.status.idle": "2022-10-16T08:38:27.262293Z",
     "shell.execute_reply": "2022-10-16T08:38:27.260885Z",
     "shell.execute_reply.started": "2022-10-16T08:38:27.252171Z"
    }
   },
   "outputs": [],
   "source": [
    "x = tf.keras.layers.GlobalAveragePooling2D()(x)\n"
   ]
  },
  {
   "cell_type": "code",
   "execution_count": 14,
   "metadata": {
    "execution": {
     "iopub.execute_input": "2022-10-16T08:38:28.149359Z",
     "iopub.status.busy": "2022-10-16T08:38:28.148258Z",
     "iopub.status.idle": "2022-10-16T08:38:28.163408Z",
     "shell.execute_reply": "2022-10-16T08:38:28.162287Z",
     "shell.execute_reply.started": "2022-10-16T08:38:28.149288Z"
    }
   },
   "outputs": [],
   "source": [
    "outputs=tf.keras.layers.Dense(100,activation='softmax')(x)"
   ]
  },
  {
   "cell_type": "code",
   "execution_count": 15,
   "metadata": {
    "execution": {
     "iopub.execute_input": "2022-10-16T08:38:29.206975Z",
     "iopub.status.busy": "2022-10-16T08:38:29.206626Z",
     "iopub.status.idle": "2022-10-16T08:38:29.215108Z",
     "shell.execute_reply": "2022-10-16T08:38:29.214114Z",
     "shell.execute_reply.started": "2022-10-16T08:38:29.206946Z"
    }
   },
   "outputs": [],
   "source": [
    "final_model=tf.keras.Model(inputs,outputs)"
   ]
  },
  {
   "cell_type": "code",
   "execution_count": 16,
   "metadata": {
    "execution": {
     "iopub.execute_input": "2022-10-16T08:38:31.024537Z",
     "iopub.status.busy": "2022-10-16T08:38:31.023944Z",
     "iopub.status.idle": "2022-10-16T08:38:31.049309Z",
     "shell.execute_reply": "2022-10-16T08:38:31.048374Z",
     "shell.execute_reply.started": "2022-10-16T08:38:31.024503Z"
    }
   },
   "outputs": [
    {
     "name": "stdout",
     "output_type": "stream",
     "text": [
      "Model: \"model\"\n",
      "_________________________________________________________________\n",
      " Layer (type)                Output Shape              Param #   \n",
      "=================================================================\n",
      " input_2 (InputLayer)        [(None, 224, 224, 3)]     0         \n",
      "                                                                 \n",
      " AugmentationLayer (Sequenti  (None, 224, 224, 3)      0         \n",
      " al)                                                             \n",
      "                                                                 \n",
      " inception_v3 (Functional)   (None, None, None, 2048)  21802784  \n",
      "                                                                 \n",
      " global_average_pooling2d (G  (None, 2048)             0         \n",
      " lobalAveragePooling2D)                                          \n",
      "                                                                 \n",
      " dense (Dense)               (None, 100)               204900    \n",
      "                                                                 \n",
      "=================================================================\n",
      "Total params: 22,007,684\n",
      "Trainable params: 204,900\n",
      "Non-trainable params: 21,802,784\n",
      "_________________________________________________________________\n"
     ]
    }
   ],
   "source": [
    "final_model.summary()"
   ]
  },
  {
   "cell_type": "code",
   "execution_count": 17,
   "metadata": {
    "execution": {
     "iopub.execute_input": "2022-10-16T08:38:46.148053Z",
     "iopub.status.busy": "2022-10-16T08:38:46.147685Z",
     "iopub.status.idle": "2022-10-16T08:38:46.162703Z",
     "shell.execute_reply": "2022-10-16T08:38:46.161626Z",
     "shell.execute_reply.started": "2022-10-16T08:38:46.148021Z"
    }
   },
   "outputs": [],
   "source": [
    "final_model.compile(loss='categorical_crossentropy',optimizer='adam',metrics=['accuracy'])"
   ]
  },
  {
   "cell_type": "code",
   "execution_count": 13,
   "metadata": {
    "execution": {
     "iopub.execute_input": "2022-10-16T08:43:29.24753Z",
     "iopub.status.busy": "2022-10-16T08:43:29.247162Z",
     "iopub.status.idle": "2022-10-16T09:06:16.431762Z",
     "shell.execute_reply": "2022-10-16T09:06:16.430739Z",
     "shell.execute_reply.started": "2022-10-16T08:43:29.2475Z"
    },
    "scrolled": true
   },
   "outputs": [
    {
     "name": "stdout",
     "output_type": "stream",
     "text": [
      "Epoch 6/10\n",
      "WARNING:tensorflow:Using a while_loop for converting RngReadAndSkip cause there is no registered converter for this op.\n",
      "WARNING:tensorflow:Using a while_loop for converting Bitcast cause there is no registered converter for this op.\n",
      "WARNING:tensorflow:Using a while_loop for converting Bitcast cause there is no registered converter for this op.\n",
      "WARNING:tensorflow:Using a while_loop for converting StatelessRandomUniformV2 cause there is no registered converter for this op.\n",
      "WARNING:tensorflow:Using a while_loop for converting ImageProjectiveTransformV3 cause there is no registered converter for this op.\n",
      "313/313 [==============================] - 600s 2s/step - loss: 1.7216 - accuracy: 0.5924 - val_loss: 0.5625 - val_accuracy: 0.8360\n",
      "Epoch 7/10\n",
      "313/313 [==============================] - 595s 2s/step - loss: 0.8964 - accuracy: 0.7488 - val_loss: 0.6452 - val_accuracy: 0.7920\n",
      "Epoch 8/10\n",
      "313/313 [==============================] - 601s 2s/step - loss: 0.6379 - accuracy: 0.8164 - val_loss: 0.5009 - val_accuracy: 0.8240\n",
      "Epoch 9/10\n",
      "313/313 [==============================] - 625s 2s/step - loss: 0.5151 - accuracy: 0.8425 - val_loss: 0.5845 - val_accuracy: 0.8120\n",
      "Epoch 10/10\n",
      "313/313 [==============================] - 637s 2s/step - loss: 0.4377 - accuracy: 0.8671 - val_loss: 0.6340 - val_accuracy: 0.8040\n"
     ]
    }
   ],
   "source": [
    "\n",
    "h1=model.fit(train_datagen,epochs=10,validation_data=val_datagen,initial_epoch=5)\n",
    "# final_model1=tf.keras.Model(inputs,outputs)\n",
    "# final_model1.compile(loss='categorical_crossentropy',optimizer='adam',metrics=['accuracy'])\n",
    "# h2=final_model1.fit(train_datagen,epochs=20,validation_data=val_datagen,validation_steps=int(0.25*len(val_datagen)))"
   ]
  },
  {
   "cell_type": "code",
   "execution_count": 15,
   "metadata": {
    "execution": {
     "iopub.execute_input": "2022-10-16T09:06:16.434605Z",
     "iopub.status.busy": "2022-10-16T09:06:16.434197Z",
     "iopub.status.idle": "2022-10-16T09:06:37.303709Z",
     "shell.execute_reply": "2022-10-16T09:06:37.302565Z",
     "shell.execute_reply.started": "2022-10-16T09:06:16.434569Z"
    }
   },
   "outputs": [
    {
     "name": "stdout",
     "output_type": "stream",
     "text": [
      "16/16 [==============================] - 29s 2s/step - loss: 0.2614 - accuracy: 0.9260\n"
     ]
    },
    {
     "data": {
      "text/plain": [
       "[0.26138836145401, 0.9259999990463257]"
      ]
     },
     "execution_count": 15,
     "metadata": {},
     "output_type": "execute_result"
    }
   ],
   "source": [
    "\n",
    "model1.evaluate(test_datagen)"
   ]
  },
  {
   "cell_type": "code",
   "execution_count": 19,
   "metadata": {},
   "outputs": [],
   "source": [
    "model_name = 'bird_classification_inceptionv3_100_classses_v1.h5'\n",
    "final_model.save(model_name, save_format='h5')"
   ]
  },
  {
   "cell_type": "code",
   "execution_count": 40,
   "metadata": {
    "execution": {
     "iopub.execute_input": "2022-10-16T09:12:33.42374Z",
     "iopub.status.busy": "2022-10-16T09:12:33.423383Z",
     "iopub.status.idle": "2022-10-16T09:12:33.431197Z",
     "shell.execute_reply": "2022-10-16T09:12:33.430223Z",
     "shell.execute_reply.started": "2022-10-16T09:12:33.423711Z"
    }
   },
   "outputs": [],
   "source": [
    "def plot_loss_curves(history):\n",
    "    \n",
    "    loss = history.history['loss']\n",
    "    val_loss = history.history['val_loss']\n",
    "    accuracy = history.history['accuracy']\n",
    "    val_accuracy = history.history['val_accuracy']\n",
    "    epochs = range(len(history.history['loss']))\n",
    "    plt.plot(epochs, loss, label='TRAINING_LOSS')\n",
    "    plt.plot(epochs, val_loss, label='VAL_LOSS')\n",
    "    plt.title('LOSS')\n",
    "    plt.xlabel('EPOCHS')\n",
    "    plt.legend()\n",
    "    plt.figure()\n",
    "    plt.plot(epochs, accuracy, label='TRAINING_ACCURACY')\n",
    "    plt.plot(epochs, val_accuracy, label='VAL_ACCURACY')\n",
    "    plt.title('ACCURACY')\n",
    "    plt.xlabel('EPOCHS')\n",
    "    plt.legend()"
   ]
  },
  {
   "cell_type": "code",
   "execution_count": 41,
   "metadata": {
    "execution": {
     "iopub.execute_input": "2022-10-16T09:12:45.502908Z",
     "iopub.status.busy": "2022-10-16T09:12:45.502215Z",
     "iopub.status.idle": "2022-10-16T09:12:45.932401Z",
     "shell.execute_reply": "2022-10-16T09:12:45.931382Z",
     "shell.execute_reply.started": "2022-10-16T09:12:45.50287Z"
    }
   },
   "outputs": [
    {
     "data": {
      "image/png": "[encoded data removed]",
      "text/plain": [
       "<Figure size 432x288 with 1 Axes>"
      ]
     },
     "metadata": {
      "needs_background": "light"
     },
     "output_type": "display_data"
    },
    {
     "data": {
      "image/png": "[encoded data removed]",
      "text/plain": [
       "<Figure size 432x288 with 1 Axes>"
      ]
     },
     "metadata": {
      "needs_background": "light"
     },
     "output_type": "display_data"
    }
   ],
   "source": [
    "plot_loss_curves(h1)"
   ]
  },
  {
   "cell_type": "code",
   "execution_count": 46,
   "metadata": {
    "execution": {
     "iopub.execute_input": "2022-10-16T09:13:14.780537Z",
     "iopub.status.busy": "2022-10-16T09:13:14.780153Z",
     "iopub.status.idle": "2022-10-16T09:13:14.785773Z",
     "shell.execute_reply": "2022-10-16T09:13:14.784749Z",
     "shell.execute_reply.started": "2022-10-16T09:13:14.780506Z"
    }
   },
   "outputs": [],
   "source": [
    "callback=tf.keras.callbacks.EarlyStopping(monitor='val_loss',patience=5)"
   ]
  },
  {
   "cell_type": "code",
   "execution_count": 47,
   "metadata": {
    "execution": {
     "iopub.execute_input": "2022-10-16T09:13:22.514536Z",
     "iopub.status.busy": "2022-10-16T09:13:22.514124Z",
     "iopub.status.idle": "2022-10-16T10:20:25.176205Z",
     "shell.execute_reply": "2022-10-16T10:20:25.175226Z",
     "shell.execute_reply.started": "2022-10-16T09:13:22.514485Z"
    }
   },
   "outputs": [
    {
     "name": "stdout",
     "output_type": "stream",
     "text": [
      "Epoch 1/20\n",
      "WARNING:tensorflow:Using a while_loop for converting RngReadAndSkip cause there is no registered converter for this op.\n",
      "WARNING:tensorflow:Using a while_loop for converting Bitcast cause there is no registered converter for this op.\n",
      "WARNING:tensorflow:Using a while_loop for converting Bitcast cause there is no registered converter for this op.\n",
      "WARNING:tensorflow:Using a while_loop for converting StatelessRandomUniformV2 cause there is no registered converter for this op.\n",
      "WARNING:tensorflow:Using a while_loop for converting ImageProjectiveTransformV3 cause there is no registered converter for this op.\n",
      "WARNING:tensorflow:Using a while_loop for converting RngReadAndSkip cause there is no registered converter for this op.\n",
      "WARNING:tensorflow:Using a while_loop for converting Bitcast cause there is no registered converter for this op.\n",
      "WARNING:tensorflow:Using a while_loop for converting Bitcast cause there is no registered converter for this op.\n",
      "WARNING:tensorflow:Using a while_loop for converting StatelessRandomUniformV2 cause there is no registered converter for this op.\n",
      "WARNING:tensorflow:Using a while_loop for converting ImageProjectiveTransformV3 cause there is no registered converter for this op.\n",
      "WARNING:tensorflow:Using a while_loop for converting RngReadAndSkip cause there is no registered converter for this op.\n",
      "WARNING:tensorflow:Using a while_loop for converting Bitcast cause there is no registered converter for this op.\n",
      "WARNING:tensorflow:Using a while_loop for converting Bitcast cause there is no registered converter for this op.\n",
      "WARNING:tensorflow:Using a while_loop for converting StatelessRandomUniformV2 cause there is no registered converter for this op.\n",
      "WARNING:tensorflow:Using a while_loop for converting ImageProjectiveTransformV3 cause there is no registered converter for this op.\n",
      "WARNING:tensorflow:Using a while_loop for converting RngReadAndSkip cause there is no registered converter for this op.\n",
      "WARNING:tensorflow:Using a while_loop for converting Bitcast cause there is no registered converter for this op.\n",
      "WARNING:tensorflow:Using a while_loop for converting Bitcast cause there is no registered converter for this op.\n",
      "WARNING:tensorflow:Using a while_loop for converting StatelessRandomUniformV2 cause there is no registered converter for this op.\n",
      "WARNING:tensorflow:Using a while_loop for converting ImageProjectiveTransformV3 cause there is no registered converter for this op.\n"
     ]
    },
    {
     "ename": "KeyboardInterrupt",
     "evalue": "",
     "output_type": "error",
     "traceback": [
      "\u001b[1;31m---------------------------------------------------------------------------\u001b[0m",
      "\u001b[1;31mKeyboardInterrupt\u001b[0m                         Traceback (most recent call last)",
      "Input \u001b[1;32mIn [47]\u001b[0m, in \u001b[0;36m<cell line: 3>\u001b[1;34m()\u001b[0m\n\u001b[0;32m      1\u001b[0m final_model1\u001b[38;5;241m=\u001b[39mtf\u001b[38;5;241m.\u001b[39mkeras\u001b[38;5;241m.\u001b[39mModel(inputs,outputs)\n\u001b[0;32m      2\u001b[0m final_model1\u001b[38;5;241m.\u001b[39mcompile(loss\u001b[38;5;241m=\u001b[39m\u001b[38;5;124m'\u001b[39m\u001b[38;5;124mcategorical_crossentropy\u001b[39m\u001b[38;5;124m'\u001b[39m,optimizer\u001b[38;5;241m=\u001b[39m\u001b[38;5;124m'\u001b[39m\u001b[38;5;124madam\u001b[39m\u001b[38;5;124m'\u001b[39m,metrics\u001b[38;5;241m=\u001b[39m[\u001b[38;5;124m'\u001b[39m\u001b[38;5;124maccuracy\u001b[39m\u001b[38;5;124m'\u001b[39m])\n\u001b[1;32m----> 3\u001b[0m h2\u001b[38;5;241m=\u001b[39m\u001b[43mfinal_model1\u001b[49m\u001b[38;5;241;43m.\u001b[39;49m\u001b[43mfit\u001b[49m\u001b[43m(\u001b[49m\u001b[43mtrain_datagen\u001b[49m\u001b[43m,\u001b[49m\u001b[43mepochs\u001b[49m\u001b[38;5;241;43m=\u001b[39;49m\u001b[38;5;241;43m20\u001b[39;49m\u001b[43m,\u001b[49m\u001b[43mvalidation_data\u001b[49m\u001b[38;5;241;43m=\u001b[39;49m\u001b[43mval_datagen\u001b[49m\u001b[43m,\u001b[49m\u001b[43mvalidation_steps\u001b[49m\u001b[38;5;241;43m=\u001b[39;49m\u001b[38;5;28;43mint\u001b[39;49m\u001b[43m(\u001b[49m\u001b[38;5;241;43m0.25\u001b[39;49m\u001b[38;5;241;43m*\u001b[39;49m\u001b[38;5;28;43mlen\u001b[39;49m\u001b[43m(\u001b[49m\u001b[43mval_datagen\u001b[49m\u001b[43m)\u001b[49m\u001b[43m)\u001b[49m\u001b[43m,\u001b[49m\u001b[43mcallbacks\u001b[49m\u001b[38;5;241;43m=\u001b[39;49m\u001b[43m[\u001b[49m\u001b[43mcallback\u001b[49m\u001b[43m]\u001b[49m\u001b[43m)\u001b[49m\n",
      "File \u001b[1;32mD:\\programfiles\\Anaconda\\lib\\site-packages\\keras\\utils\\traceback_utils.py:65\u001b[0m, in \u001b[0;36mfilter_traceback.<locals>.error_handler\u001b[1;34m(*args, **kwargs)\u001b[0m\n\u001b[0;32m     63\u001b[0m filtered_tb \u001b[38;5;241m=\u001b[39m \u001b[38;5;28;01mNone\u001b[39;00m\n\u001b[0;32m     64\u001b[0m \u001b[38;5;28;01mtry\u001b[39;00m:\n\u001b[1;32m---> 65\u001b[0m     \u001b[38;5;28;01mreturn\u001b[39;00m fn(\u001b[38;5;241m*\u001b[39margs, \u001b[38;5;241m*\u001b[39m\u001b[38;5;241m*\u001b[39mkwargs)\n\u001b[0;32m     66\u001b[0m \u001b[38;5;28;01mexcept\u001b[39;00m \u001b[38;5;167;01mException\u001b[39;00m \u001b[38;5;28;01mas\u001b[39;00m e:\n\u001b[0;32m     67\u001b[0m     filtered_tb \u001b[38;5;241m=\u001b[39m _process_traceback_frames(e\u001b[38;5;241m.\u001b[39m__traceback__)\n",
      "File \u001b[1;32mD:\\programfiles\\Anaconda\\lib\\site-packages\\keras\\engine\\training.py:1564\u001b[0m, in \u001b[0;36mModel.fit\u001b[1;34m(self, x, y, batch_size, epochs, verbose, callbacks, validation_split, validation_data, shuffle, class_weight, sample_weight, initial_epoch, steps_per_epoch, validation_steps, validation_batch_size, validation_freq, max_queue_size, workers, use_multiprocessing)\u001b[0m\n\u001b[0;32m   1556\u001b[0m \u001b[38;5;28;01mwith\u001b[39;00m tf\u001b[38;5;241m.\u001b[39mprofiler\u001b[38;5;241m.\u001b[39mexperimental\u001b[38;5;241m.\u001b[39mTrace(\n\u001b[0;32m   1557\u001b[0m     \u001b[38;5;124m\"\u001b[39m\u001b[38;5;124mtrain\u001b[39m\u001b[38;5;124m\"\u001b[39m,\n\u001b[0;32m   1558\u001b[0m     epoch_num\u001b[38;5;241m=\u001b[39mepoch,\n\u001b[1;32m   (...)\u001b[0m\n\u001b[0;32m   1561\u001b[0m     _r\u001b[38;5;241m=\u001b[39m\u001b[38;5;241m1\u001b[39m,\n\u001b[0;32m   1562\u001b[0m ):\n\u001b[0;32m   1563\u001b[0m     callbacks\u001b[38;5;241m.\u001b[39mon_train_batch_begin(step)\n\u001b[1;32m-> 1564\u001b[0m     tmp_logs \u001b[38;5;241m=\u001b[39m \u001b[38;5;28;43mself\u001b[39;49m\u001b[38;5;241;43m.\u001b[39;49m\u001b[43mtrain_function\u001b[49m\u001b[43m(\u001b[49m\u001b[43miterator\u001b[49m\u001b[43m)\u001b[49m\n\u001b[0;32m   1565\u001b[0m     \u001b[38;5;28;01mif\u001b[39;00m data_handler\u001b[38;5;241m.\u001b[39mshould_sync:\n\u001b[0;32m   1566\u001b[0m         context\u001b[38;5;241m.\u001b[39masync_wait()\n",
      "File \u001b[1;32mD:\\programfiles\\Anaconda\\lib\\site-packages\\tensorflow\\python\\util\\traceback_utils.py:150\u001b[0m, in \u001b[0;36mfilter_traceback.<locals>.error_handler\u001b[1;34m(*args, **kwargs)\u001b[0m\n\u001b[0;32m    148\u001b[0m filtered_tb \u001b[38;5;241m=\u001b[39m \u001b[38;5;28;01mNone\u001b[39;00m\n\u001b[0;32m    149\u001b[0m \u001b[38;5;28;01mtry\u001b[39;00m:\n\u001b[1;32m--> 150\u001b[0m   \u001b[38;5;28;01mreturn\u001b[39;00m fn(\u001b[38;5;241m*\u001b[39margs, \u001b[38;5;241m*\u001b[39m\u001b[38;5;241m*\u001b[39mkwargs)\n\u001b[0;32m    151\u001b[0m \u001b[38;5;28;01mexcept\u001b[39;00m \u001b[38;5;167;01mException\u001b[39;00m \u001b[38;5;28;01mas\u001b[39;00m e:\n\u001b[0;32m    152\u001b[0m   filtered_tb \u001b[38;5;241m=\u001b[39m _process_traceback_frames(e\u001b[38;5;241m.\u001b[39m__traceback__)\n",
      "File \u001b[1;32mD:\\programfiles\\Anaconda\\lib\\site-packages\\tensorflow\\python\\eager\\def_function.py:915\u001b[0m, in \u001b[0;36mFunction.__call__\u001b[1;34m(self, *args, **kwds)\u001b[0m\n\u001b[0;32m    912\u001b[0m compiler \u001b[38;5;241m=\u001b[39m \u001b[38;5;124m\"\u001b[39m\u001b[38;5;124mxla\u001b[39m\u001b[38;5;124m\"\u001b[39m \u001b[38;5;28;01mif\u001b[39;00m \u001b[38;5;28mself\u001b[39m\u001b[38;5;241m.\u001b[39m_jit_compile \u001b[38;5;28;01melse\u001b[39;00m \u001b[38;5;124m\"\u001b[39m\u001b[38;5;124mnonXla\u001b[39m\u001b[38;5;124m\"\u001b[39m\n\u001b[0;32m    914\u001b[0m \u001b[38;5;28;01mwith\u001b[39;00m OptionalXlaContext(\u001b[38;5;28mself\u001b[39m\u001b[38;5;241m.\u001b[39m_jit_compile):\n\u001b[1;32m--> 915\u001b[0m   result \u001b[38;5;241m=\u001b[39m \u001b[38;5;28mself\u001b[39m\u001b[38;5;241m.\u001b[39m_call(\u001b[38;5;241m*\u001b[39margs, \u001b[38;5;241m*\u001b[39m\u001b[38;5;241m*\u001b[39mkwds)\n\u001b[0;32m    917\u001b[0m new_tracing_count \u001b[38;5;241m=\u001b[39m \u001b[38;5;28mself\u001b[39m\u001b[38;5;241m.\u001b[39mexperimental_get_tracing_count()\n\u001b[0;32m    918\u001b[0m without_tracing \u001b[38;5;241m=\u001b[39m (tracing_count \u001b[38;5;241m==\u001b[39m new_tracing_count)\n",
      "File \u001b[1;32mD:\\programfiles\\Anaconda\\lib\\site-packages\\tensorflow\\python\\eager\\def_function.py:980\u001b[0m, in \u001b[0;36mFunction._call\u001b[1;34m(self, *args, **kwds)\u001b[0m\n\u001b[0;32m    976\u001b[0m     \u001b[38;5;28;01mpass\u001b[39;00m  \u001b[38;5;66;03m# Fall through to cond-based initialization.\u001b[39;00m\n\u001b[0;32m    977\u001b[0m   \u001b[38;5;28;01melse\u001b[39;00m:\n\u001b[0;32m    978\u001b[0m     \u001b[38;5;66;03m# Lifting succeeded, so variables are initialized and we can run the\u001b[39;00m\n\u001b[0;32m    979\u001b[0m     \u001b[38;5;66;03m# stateless function.\u001b[39;00m\n\u001b[1;32m--> 980\u001b[0m     \u001b[38;5;28;01mreturn\u001b[39;00m \u001b[38;5;28mself\u001b[39m\u001b[38;5;241m.\u001b[39m_stateless_fn(\u001b[38;5;241m*\u001b[39margs, \u001b[38;5;241m*\u001b[39m\u001b[38;5;241m*\u001b[39mkwds)\n\u001b[0;32m    981\u001b[0m \u001b[38;5;28;01melse\u001b[39;00m:\n\u001b[0;32m    982\u001b[0m   _, _, filtered_flat_args \u001b[38;5;241m=\u001b[39m (\n\u001b[0;32m    983\u001b[0m       \u001b[38;5;28mself\u001b[39m\u001b[38;5;241m.\u001b[39m_stateful_fn\u001b[38;5;241m.\u001b[39m_function_spec\u001b[38;5;241m.\u001b[39mcanonicalize_function_inputs(  \u001b[38;5;66;03m# pylint: disable=protected-access\u001b[39;00m\n\u001b[0;32m    984\u001b[0m           \u001b[38;5;241m*\u001b[39margs, \u001b[38;5;241m*\u001b[39m\u001b[38;5;241m*\u001b[39mkwds))\n",
      "File \u001b[1;32mD:\\programfiles\\Anaconda\\lib\\site-packages\\tensorflow\\python\\eager\\function.py:2495\u001b[0m, in \u001b[0;36mFunction.__call__\u001b[1;34m(self, *args, **kwargs)\u001b[0m\n\u001b[0;32m   2492\u001b[0m \u001b[38;5;124;03m\"\"\"Calls a graph function specialized to the inputs.\"\"\"\u001b[39;00m\n\u001b[0;32m   2493\u001b[0m \u001b[38;5;28;01mwith\u001b[39;00m \u001b[38;5;28mself\u001b[39m\u001b[38;5;241m.\u001b[39m_lock:\n\u001b[0;32m   2494\u001b[0m   (graph_function,\n\u001b[1;32m-> 2495\u001b[0m    filtered_flat_args) \u001b[38;5;241m=\u001b[39m \u001b[38;5;28;43mself\u001b[39;49m\u001b[38;5;241;43m.\u001b[39;49m\u001b[43m_maybe_define_function\u001b[49m\u001b[43m(\u001b[49m\u001b[43margs\u001b[49m\u001b[43m,\u001b[49m\u001b[43m \u001b[49m\u001b[43mkwargs\u001b[49m\u001b[43m)\u001b[49m\n\u001b[0;32m   2496\u001b[0m \u001b[38;5;28;01mreturn\u001b[39;00m graph_function\u001b[38;5;241m.\u001b[39m_call_flat(\n\u001b[0;32m   2497\u001b[0m     filtered_flat_args, captured_inputs\u001b[38;5;241m=\u001b[39mgraph_function\u001b[38;5;241m.\u001b[39mcaptured_inputs)\n",
      "File \u001b[1;32mD:\\programfiles\\Anaconda\\lib\\site-packages\\tensorflow\\python\\eager\\function.py:2760\u001b[0m, in \u001b[0;36mFunction._maybe_define_function\u001b[1;34m(self, args, kwargs)\u001b[0m\n\u001b[0;32m   2758\u001b[0m   \u001b[38;5;66;03m# Only get placeholders for arguments, not captures\u001b[39;00m\n\u001b[0;32m   2759\u001b[0m   args, kwargs \u001b[38;5;241m=\u001b[39m placeholder_dict[\u001b[38;5;124m\"\u001b[39m\u001b[38;5;124margs\u001b[39m\u001b[38;5;124m\"\u001b[39m]\n\u001b[1;32m-> 2760\u001b[0m graph_function \u001b[38;5;241m=\u001b[39m \u001b[38;5;28;43mself\u001b[39;49m\u001b[38;5;241;43m.\u001b[39;49m\u001b[43m_create_graph_function\u001b[49m\u001b[43m(\u001b[49m\u001b[43margs\u001b[49m\u001b[43m,\u001b[49m\u001b[43m \u001b[49m\u001b[43mkwargs\u001b[49m\u001b[43m)\u001b[49m\n\u001b[0;32m   2762\u001b[0m graph_capture_container \u001b[38;5;241m=\u001b[39m graph_function\u001b[38;5;241m.\u001b[39mgraph\u001b[38;5;241m.\u001b[39m_capture_func_lib  \u001b[38;5;66;03m# pylint: disable=protected-access\u001b[39;00m\n\u001b[0;32m   2763\u001b[0m \u001b[38;5;66;03m# Maintain the list of all captures\u001b[39;00m\n",
      "File \u001b[1;32mD:\\programfiles\\Anaconda\\lib\\site-packages\\tensorflow\\python\\eager\\function.py:2669\u001b[0m, in \u001b[0;36mFunction._create_graph_function\u001b[1;34m(self, args, kwargs)\u001b[0m\n\u001b[0;32m   2665\u001b[0m missing_arg_names \u001b[38;5;241m=\u001b[39m [\n\u001b[0;32m   2666\u001b[0m     \u001b[38;5;124m\"\u001b[39m\u001b[38;5;132;01m%s\u001b[39;00m\u001b[38;5;124m_\u001b[39m\u001b[38;5;132;01m%d\u001b[39;00m\u001b[38;5;124m\"\u001b[39m \u001b[38;5;241m%\u001b[39m (arg, i) \u001b[38;5;28;01mfor\u001b[39;00m i, arg \u001b[38;5;129;01min\u001b[39;00m \u001b[38;5;28menumerate\u001b[39m(missing_arg_names)\n\u001b[0;32m   2667\u001b[0m ]\n\u001b[0;32m   2668\u001b[0m arg_names \u001b[38;5;241m=\u001b[39m base_arg_names \u001b[38;5;241m+\u001b[39m missing_arg_names\n\u001b[1;32m-> 2669\u001b[0m graph_function \u001b[38;5;241m=\u001b[39m \u001b[43mConcreteFunction\u001b[49m\u001b[43m(\u001b[49m\n\u001b[0;32m   2670\u001b[0m \u001b[43m    \u001b[49m\u001b[43mfunc_graph_module\u001b[49m\u001b[38;5;241;43m.\u001b[39;49m\u001b[43mfunc_graph_from_py_func\u001b[49m\u001b[43m(\u001b[49m\n\u001b[0;32m   2671\u001b[0m \u001b[43m        \u001b[49m\u001b[38;5;28;43mself\u001b[39;49m\u001b[38;5;241;43m.\u001b[39;49m\u001b[43m_name\u001b[49m\u001b[43m,\u001b[49m\n\u001b[0;32m   2672\u001b[0m \u001b[43m        \u001b[49m\u001b[38;5;28;43mself\u001b[39;49m\u001b[38;5;241;43m.\u001b[39;49m\u001b[43m_python_function\u001b[49m\u001b[43m,\u001b[49m\n\u001b[0;32m   2673\u001b[0m \u001b[43m        \u001b[49m\u001b[43margs\u001b[49m\u001b[43m,\u001b[49m\n\u001b[0;32m   2674\u001b[0m \u001b[43m        \u001b[49m\u001b[43mkwargs\u001b[49m\u001b[43m,\u001b[49m\n\u001b[0;32m   2675\u001b[0m \u001b[43m        \u001b[49m\u001b[38;5;28;43mself\u001b[39;49m\u001b[38;5;241;43m.\u001b[39;49m\u001b[43minput_signature\u001b[49m\u001b[43m,\u001b[49m\n\u001b[0;32m   2676\u001b[0m \u001b[43m        \u001b[49m\u001b[43mautograph\u001b[49m\u001b[38;5;241;43m=\u001b[39;49m\u001b[38;5;28;43mself\u001b[39;49m\u001b[38;5;241;43m.\u001b[39;49m\u001b[43m_autograph\u001b[49m\u001b[43m,\u001b[49m\n\u001b[0;32m   2677\u001b[0m \u001b[43m        \u001b[49m\u001b[43mautograph_options\u001b[49m\u001b[38;5;241;43m=\u001b[39;49m\u001b[38;5;28;43mself\u001b[39;49m\u001b[38;5;241;43m.\u001b[39;49m\u001b[43m_autograph_options\u001b[49m\u001b[43m,\u001b[49m\n\u001b[0;32m   2678\u001b[0m \u001b[43m        \u001b[49m\u001b[43marg_names\u001b[49m\u001b[38;5;241;43m=\u001b[39;49m\u001b[43marg_names\u001b[49m\u001b[43m,\u001b[49m\n\u001b[0;32m   2679\u001b[0m \u001b[43m        \u001b[49m\u001b[43mcapture_by_value\u001b[49m\u001b[38;5;241;43m=\u001b[39;49m\u001b[38;5;28;43mself\u001b[39;49m\u001b[38;5;241;43m.\u001b[39;49m\u001b[43m_capture_by_value\u001b[49m\u001b[43m)\u001b[49m\u001b[43m,\u001b[49m\n\u001b[0;32m   2680\u001b[0m \u001b[43m    \u001b[49m\u001b[38;5;28;43mself\u001b[39;49m\u001b[38;5;241;43m.\u001b[39;49m\u001b[43m_function_attributes\u001b[49m\u001b[43m,\u001b[49m\n\u001b[0;32m   2681\u001b[0m \u001b[43m    \u001b[49m\u001b[43mspec\u001b[49m\u001b[38;5;241;43m=\u001b[39;49m\u001b[38;5;28;43mself\u001b[39;49m\u001b[38;5;241;43m.\u001b[39;49m\u001b[43mfunction_spec\u001b[49m\u001b[43m,\u001b[49m\n\u001b[0;32m   2682\u001b[0m \u001b[43m    \u001b[49m\u001b[38;5;66;43;03m# Tell the ConcreteFunction to clean up its graph once it goes out of\u001b[39;49;00m\n\u001b[0;32m   2683\u001b[0m \u001b[43m    \u001b[49m\u001b[38;5;66;43;03m# scope. This is not the default behavior since it gets used in some\u001b[39;49;00m\n\u001b[0;32m   2684\u001b[0m \u001b[43m    \u001b[49m\u001b[38;5;66;43;03m# places (like Keras) where the FuncGraph lives longer than the\u001b[39;49;00m\n\u001b[0;32m   2685\u001b[0m \u001b[43m    \u001b[49m\u001b[38;5;66;43;03m# ConcreteFunction.\u001b[39;49;00m\n\u001b[0;32m   2686\u001b[0m \u001b[43m    \u001b[49m\u001b[43mshared_func_graph\u001b[49m\u001b[38;5;241;43m=\u001b[39;49m\u001b[38;5;28;43;01mFalse\u001b[39;49;00m\u001b[43m)\u001b[49m\n\u001b[0;32m   2687\u001b[0m \u001b[38;5;28;01mreturn\u001b[39;00m graph_function\n",
      "File \u001b[1;32mD:\\programfiles\\Anaconda\\lib\\site-packages\\tensorflow\\python\\eager\\function.py:1494\u001b[0m, in \u001b[0;36mConcreteFunction.__init__\u001b[1;34m(self, func_graph, attrs, shared_func_graph, spec)\u001b[0m\n\u001b[0;32m   1488\u001b[0m   \u001b[38;5;28mself\u001b[39m\u001b[38;5;241m.\u001b[39m_garbage_collector \u001b[38;5;241m=\u001b[39m ConcreteFunctionGarbageCollector(func_graph)\n\u001b[0;32m   1490\u001b[0m \u001b[38;5;66;03m# Pairs of forward and backward functions used for computing gradients.\u001b[39;00m\n\u001b[0;32m   1491\u001b[0m \u001b[38;5;66;03m#\u001b[39;00m\n\u001b[0;32m   1492\u001b[0m \u001b[38;5;66;03m# These each get a reference to the FuncGraph deleter since they use the\u001b[39;00m\n\u001b[0;32m   1493\u001b[0m \u001b[38;5;66;03m# FuncGraph directly.\u001b[39;00m\n\u001b[1;32m-> 1494\u001b[0m \u001b[38;5;28mself\u001b[39m\u001b[38;5;241m.\u001b[39m_delayed_rewrite_functions \u001b[38;5;241m=\u001b[39m \u001b[43m_DelayedRewriteGradientFunctions\u001b[49m\u001b[43m(\u001b[49m\n\u001b[0;32m   1495\u001b[0m \u001b[43m    \u001b[49m\u001b[43mfunc_graph\u001b[49m\u001b[43m,\u001b[49m\u001b[43m \u001b[49m\u001b[38;5;28;43mself\u001b[39;49m\u001b[38;5;241;43m.\u001b[39;49m\u001b[43m_attrs\u001b[49m\u001b[43m,\u001b[49m\u001b[43m \u001b[49m\u001b[38;5;28;43mself\u001b[39;49m\u001b[38;5;241;43m.\u001b[39;49m\u001b[43m_garbage_collector\u001b[49m\u001b[43m)\u001b[49m\n\u001b[0;32m   1496\u001b[0m \u001b[38;5;28mself\u001b[39m\u001b[38;5;241m.\u001b[39m_first_order_tape_functions \u001b[38;5;241m=\u001b[39m {}\n\u001b[0;32m   1497\u001b[0m \u001b[38;5;28mself\u001b[39m\u001b[38;5;241m.\u001b[39m_higher_order_tape_functions \u001b[38;5;241m=\u001b[39m {}\n",
      "File \u001b[1;32mD:\\programfiles\\Anaconda\\lib\\site-packages\\tensorflow\\python\\eager\\function.py:584\u001b[0m, in \u001b[0;36m_DelayedRewriteGradientFunctions.__init__\u001b[1;34m(self, func_graph, attrs, func_graph_deleter)\u001b[0m\n\u001b[0;32m    582\u001b[0m \u001b[38;5;28mself\u001b[39m\u001b[38;5;241m.\u001b[39m_cached_function_pairs \u001b[38;5;241m=\u001b[39m {}\n\u001b[0;32m    583\u001b[0m \u001b[38;5;28mself\u001b[39m\u001b[38;5;241m.\u001b[39m_func_graph \u001b[38;5;241m=\u001b[39m func_graph\n\u001b[1;32m--> 584\u001b[0m \u001b[38;5;28mself\u001b[39m\u001b[38;5;241m.\u001b[39m_inference_function \u001b[38;5;241m=\u001b[39m \u001b[43m_EagerDefinedFunction\u001b[49m\u001b[43m(\u001b[49m\n\u001b[0;32m    585\u001b[0m \u001b[43m    \u001b[49m\u001b[43m_inference_name\u001b[49m\u001b[43m(\u001b[49m\u001b[38;5;28;43mself\u001b[39;49m\u001b[38;5;241;43m.\u001b[39;49m\u001b[43m_func_graph\u001b[49m\u001b[38;5;241;43m.\u001b[39;49m\u001b[43mname\u001b[49m\u001b[43m)\u001b[49m\u001b[43m,\u001b[49m\u001b[43m \u001b[49m\u001b[38;5;28;43mself\u001b[39;49m\u001b[38;5;241;43m.\u001b[39;49m\u001b[43m_func_graph\u001b[49m\u001b[43m,\u001b[49m\n\u001b[0;32m    586\u001b[0m \u001b[43m    \u001b[49m\u001b[38;5;28;43mself\u001b[39;49m\u001b[38;5;241;43m.\u001b[39;49m\u001b[43m_func_graph\u001b[49m\u001b[38;5;241;43m.\u001b[39;49m\u001b[43minputs\u001b[49m\u001b[43m,\u001b[49m\u001b[43m \u001b[49m\u001b[38;5;28;43mself\u001b[39;49m\u001b[38;5;241;43m.\u001b[39;49m\u001b[43m_func_graph\u001b[49m\u001b[38;5;241;43m.\u001b[39;49m\u001b[43moutputs\u001b[49m\u001b[43m,\u001b[49m\u001b[43m \u001b[49m\u001b[43mattrs\u001b[49m\u001b[43m)\u001b[49m\n\u001b[0;32m    587\u001b[0m \u001b[38;5;28mself\u001b[39m\u001b[38;5;241m.\u001b[39m_attrs \u001b[38;5;241m=\u001b[39m attrs\n\u001b[0;32m    588\u001b[0m \u001b[38;5;28mself\u001b[39m\u001b[38;5;241m.\u001b[39m_gradient_name \u001b[38;5;241m=\u001b[39m \u001b[38;5;28;01mNone\u001b[39;00m\n",
      "File \u001b[1;32mD:\\programfiles\\Anaconda\\lib\\site-packages\\tensorflow\\python\\eager\\function.py:385\u001b[0m, in \u001b[0;36m_EagerDefinedFunction.__init__\u001b[1;34m(self, name, graph, inputs, outputs, attrs)\u001b[0m\n\u001b[0;32m    379\u001b[0m   pywrap_tf_session\u001b[38;5;241m.\u001b[39mTF_FunctionSetAttrValueProto(fn, compat\u001b[38;5;241m.\u001b[39mas_str(name),\n\u001b[0;32m    380\u001b[0m                                                  serialized)\n\u001b[0;32m    382\u001b[0m \u001b[38;5;66;03m# NOTE(feyu): Do not cache signature and definition at initialization to\u001b[39;00m\n\u001b[0;32m    383\u001b[0m \u001b[38;5;66;03m# save memory usage of concrete functions never called through Python. We\u001b[39;00m\n\u001b[0;32m    384\u001b[0m \u001b[38;5;66;03m# cache them on the first call of .definition and .signature.\u001b[39;00m\n\u001b[1;32m--> 385\u001b[0m signature \u001b[38;5;241m=\u001b[39m \u001b[38;5;28;43mself\u001b[39;49m\u001b[38;5;241;43m.\u001b[39;49m\u001b[43m_get_definition\u001b[49m\u001b[43m(\u001b[49m\u001b[43m)\u001b[49m\u001b[38;5;241m.\u001b[39msignature\n\u001b[0;32m    387\u001b[0m \u001b[38;5;28mself\u001b[39m\u001b[38;5;241m.\u001b[39m_name \u001b[38;5;241m=\u001b[39m compat\u001b[38;5;241m.\u001b[39mas_bytes(signature\u001b[38;5;241m.\u001b[39mname)\n\u001b[0;32m    388\u001b[0m \u001b[38;5;28;01mwith\u001b[39;00m ops\u001b[38;5;241m.\u001b[39minit_scope():\n",
      "File \u001b[1;32mD:\\programfiles\\Anaconda\\lib\\site-packages\\tensorflow\\python\\eager\\function.py:428\u001b[0m, in \u001b[0;36m_EagerDefinedFunction._get_definition\u001b[1;34m(self)\u001b[0m\n\u001b[0;32m    426\u001b[0m \u001b[38;5;28;01mwith\u001b[39;00m c_api_util\u001b[38;5;241m.\u001b[39mtf_buffer() \u001b[38;5;28;01mas\u001b[39;00m buffer_:\n\u001b[0;32m    427\u001b[0m   \u001b[38;5;28;01mwith\u001b[39;00m \u001b[38;5;28mself\u001b[39m\u001b[38;5;241m.\u001b[39m_c_func\u001b[38;5;241m.\u001b[39mget() \u001b[38;5;28;01mas\u001b[39;00m func:\n\u001b[1;32m--> 428\u001b[0m     \u001b[43mpywrap_tf_session\u001b[49m\u001b[38;5;241;43m.\u001b[39;49m\u001b[43mTF_FunctionToFunctionDef\u001b[49m\u001b[43m(\u001b[49m\u001b[43mfunc\u001b[49m\u001b[43m,\u001b[49m\u001b[43m \u001b[49m\u001b[43mbuffer_\u001b[49m\u001b[43m)\u001b[49m\n\u001b[0;32m    429\u001b[0m   proto_data \u001b[38;5;241m=\u001b[39m pywrap_tf_session\u001b[38;5;241m.\u001b[39mTF_GetBuffer(buffer_)\n\u001b[0;32m    430\u001b[0m function_def \u001b[38;5;241m=\u001b[39m function_pb2\u001b[38;5;241m.\u001b[39mFunctionDef()\n",
      "\u001b[1;31mKeyboardInterrupt\u001b[0m: "
     ]
    }
   ],
   "source": [
    "final_model1=tf.keras.Model(inputs,outputs)\n",
    "final_model1.compile(loss='categorical_crossentropy',optimizer='adam',metrics=['accuracy'])\n",
    "h2=final_model1.fit(train_datagen,epochs=20,validation_data=val_datagen,validation_steps=int(0.25*len(val_datagen)),callbacks=[callback])"
   ]
  },
  {
   "cell_type": "code",
   "execution_count": null,
   "metadata": {
    "execution": {
     "iopub.execute_input": "2022-10-16T10:20:30.006881Z",
     "iopub.status.busy": "2022-10-16T10:20:30.00626Z",
     "iopub.status.idle": "2022-10-16T10:20:37.474524Z",
     "shell.execute_reply": "2022-10-16T10:20:37.473629Z",
     "shell.execute_reply.started": "2022-10-16T10:20:30.006848Z"
    }
   },
   "outputs": [],
   "source": [
    "final_model1.evaluate(test_datagen)"
   ]
  },
  {
   "cell_type": "code",
   "execution_count": null,
   "metadata": {
    "execution": {
     "iopub.execute_input": "2022-10-16T10:20:55.469135Z",
     "iopub.status.busy": "2022-10-16T10:20:55.46877Z",
     "iopub.status.idle": "2022-10-16T10:20:55.90253Z",
     "shell.execute_reply": "2022-10-16T10:20:55.901374Z",
     "shell.execute_reply.started": "2022-10-16T10:20:55.469104Z"
    }
   },
   "outputs": [],
   "source": [
    "plot_loss_curves(h2)"
   ]
  },
  {
   "cell_type": "code",
   "execution_count": 44,
   "metadata": {},
   "outputs": [],
   "source": [
    "from tensorflow.keras.preprocessing import image"
   ]
  },
  {
   "cell_type": "code",
   "execution_count": 93,
   "metadata": {
    "collapsed": true
   },
   "outputs": [
    {
     "name": "stdout",
     "output_type": "stream",
     "text": [
      "ABBOTTS BABBLER\n",
      "ABBOTTS BOOBY\n",
      "ABYSSINIAN GROUND HORNBILL\n",
      "AFRICAN CROWNED CRANE\n",
      "AFRICAN EMERALD CUCKOO\n",
      "AFRICAN FIREFINCH\n",
      "AFRICAN OYSTER CATCHER\n",
      "AFRICAN PIED HORNBILL\n",
      "ALBATROSS\n",
      "ALBERTS TOWHEE\n",
      "ALEXANDRINE PARAKEET\n",
      "ALPINE CHOUGH\n",
      "ALTAMIRA YELLOWTHROAT\n",
      "AMERICAN AVOCET\n",
      "AMERICAN BITTERN\n",
      "AMERICAN COOT\n",
      "AMERICAN FLAMINGO\n",
      "AMERICAN GOLDFINCH\n",
      "AMERICAN KESTREL\n",
      "AMERICAN PIPIT\n",
      "AMERICAN REDSTART\n",
      "AMERICAN WIGEON\n",
      "AMETHYST WOODSTAR\n",
      "ANDEAN GOOSE\n",
      "ANDEAN LAPWING\n",
      "ANDEAN SISKIN\n",
      "ANHINGA\n",
      "ANIANIAU\n",
      "ANNAS HUMMINGBIRD\n",
      "ANTBIRD\n",
      "ANTILLEAN EUPHONIA\n",
      "APAPANE\n",
      "APOSTLEBIRD\n",
      "ARARIPE MANAKIN\n",
      "ASHY STORM PETREL\n",
      "ASHY THRUSHBIRD\n",
      "ASIAN CRESTED IBIS\n",
      "ASIAN DOLLARD BIRD\n",
      "AUCKLAND SHAQ\n",
      "AUSTRAL CANASTERO\n",
      "AUSTRALASIAN FIGBIRD\n",
      "AVADAVAT\n",
      "AZARAS SPINETAIL\n",
      "AZURE BREASTED PITTA\n",
      "AZURE JAY\n",
      "AZURE TANAGER\n",
      "AZURE TIT\n",
      "BAIKAL TEAL\n",
      "BALD EAGLE\n",
      "BALD IBIS\n",
      "BALI STARLING\n",
      "BALTIMORE ORIOLE\n",
      "BANANAQUIT\n",
      "BAND TAILED GUAN\n",
      "BANDED BROADBILL\n",
      "BANDED PITA\n",
      "BANDED STILT\n",
      "BAR-TAILED GODWIT\n",
      "BARN OWL\n",
      "BARN SWALLOW\n",
      "BARRED PUFFBIRD\n",
      "BARROWS GOLDENEYE\n",
      "BAY-BREASTED WARBLER\n",
      "BEARDED BARBET\n",
      "BEARDED BELLBIRD\n",
      "BEARDED REEDLING\n",
      "BELTED KINGFISHER\n",
      "BIRD OF PARADISE\n",
      "BLACK & YELLOW BROADBILL\n",
      "BLACK BAZA\n",
      "BLACK COCKATO\n",
      "BLACK FRANCOLIN\n",
      "BLACK SKIMMER\n",
      "BLACK SWAN\n",
      "BLACK TAIL CRAKE\n",
      "BLACK THROATED BUSHTIT\n",
      "BLACK THROATED WARBLER\n",
      "BLACK VENTED SHEARWATER\n",
      "BLACK VULTURE\n",
      "BLACK-CAPPED CHICKADEE\n",
      "BLACK-NECKED GREBE\n",
      "BLACK-THROATED SPARROW\n",
      "BLACKBURNIAM WARBLER\n",
      "BLONDE CRESTED WOODPECKER\n",
      "BLOOD PHEASANT\n",
      "BLUE COAU\n",
      "BLUE DACNIS\n",
      "BLUE GROUSE\n",
      "BLUE HERON\n",
      "BLUE MALKOHA\n",
      "BLUE THROATED TOUCANET\n",
      "BOBOLINK\n",
      "BORNEAN BRISTLEHEAD\n",
      "BORNEAN LEAFBIRD\n",
      "BORNEAN PHEASANT\n",
      "BRANDT CORMARANT\n",
      "BREWERS BLACKBIRD\n",
      "BROWN CREPPER\n",
      "BROWN NOODY\n",
      "BROWN THRASHER\n",
      "BUFFLEHEAD\n",
      "BULWERS PHEASANT\n",
      "BURCHELLS COURSER\n",
      "BUSH TURKEY\n",
      "CAATINGA CACHOLOTE\n",
      "CACTUS WREN\n",
      "CALIFORNIA CONDOR\n",
      "CALIFORNIA GULL\n",
      "CALIFORNIA QUAIL\n",
      "CAMPO FLICKER\n",
      "CANARY\n",
      "CAPE GLOSSY STARLING\n",
      "CAPE LONGCLAW\n",
      "CAPE MAY WARBLER\n",
      "CAPE ROCK THRUSH\n",
      "CAPPED HERON\n",
      "CAPUCHINBIRD\n",
      "CARMINE BEE-EATER\n",
      "CASPIAN TERN\n",
      "CASSOWARY\n",
      "CEDAR WAXWING\n",
      "CERULEAN WARBLER\n",
      "CHARA DE COLLAR\n",
      "CHATTERING LORY\n",
      "CHESTNET BELLIED EUPHONIA\n",
      "CHINESE BAMBOO PARTRIDGE\n",
      "CHINESE POND HERON\n",
      "CHIPPING SPARROW\n",
      "CHUCAO TAPACULO\n",
      "CHUKAR PARTRIDGE\n",
      "CINNAMON ATTILA\n",
      "CINNAMON FLYCATCHER\n",
      "CINNAMON TEAL\n",
      "CLARKS NUTCRACKER\n",
      "COCK OF THE  ROCK\n",
      "COCKATOO\n",
      "COLLARED ARACARI\n",
      "COMMON FIRECREST\n",
      "COMMON GRACKLE\n",
      "COMMON HOUSE MARTIN\n",
      "COMMON IORA\n",
      "COMMON LOON\n",
      "COMMON POORWILL\n",
      "COMMON STARLING\n",
      "COPPERY TAILED COUCAL\n",
      "CRAB PLOVER\n",
      "CRANE HAWK\n",
      "CREAM COLORED WOODPECKER\n",
      "CRESTED AUKLET\n",
      "CRESTED CARACARA\n",
      "CRESTED COUA\n",
      "CRESTED FIREBACK\n",
      "CRESTED KINGFISHER\n",
      "CRESTED NUTHATCH\n",
      "CRESTED OROPENDOLA\n",
      "CRESTED SHRIKETIT\n",
      "CRIMSON CHAT\n",
      "CRIMSON SUNBIRD\n",
      "CROW\n",
      "CROWNED PIGEON\n",
      "CUBAN TODY\n",
      "CUBAN TROGON\n",
      "CURL CRESTED ARACURI\n",
      "D-ARNAUDS BARBET\n",
      "DALMATIAN PELICAN\n",
      "DARJEELING WOODPECKER\n",
      "DARK EYED JUNCO\n",
      "DARWINS FLYCATCHER\n",
      "DAURIAN REDSTART\n",
      "DEMOISELLE CRANE\n",
      "DOUBLE BARRED FINCH\n",
      "DOUBLE BRESTED CORMARANT\n",
      "DOUBLE EYED FIG PARROT\n",
      "DOWNY WOODPECKER\n",
      "DUSKY LORY\n",
      "DUSKY ROBIN\n",
      "EARED PITA\n",
      "EASTERN BLUEBIRD\n",
      "EASTERN BLUEBONNET\n",
      "EASTERN GOLDEN WEAVER\n",
      "EASTERN MEADOWLARK\n",
      "EASTERN ROSELLA\n",
      "EASTERN TOWEE\n",
      "EASTERN WIP POOR WILL\n",
      "ECUADORIAN HILLSTAR\n",
      "EGYPTIAN GOOSE\n",
      "ELEGANT TROGON\n",
      "ELLIOTS  PHEASANT\n",
      "EMERALD TANAGER\n",
      "EMPEROR PENGUIN\n",
      "EMU\n",
      "ENGGANO MYNA\n",
      "EURASIAN BULLFINCH\n",
      "EURASIAN GOLDEN ORIOLE\n",
      "EURASIAN MAGPIE\n",
      "EUROPEAN GOLDFINCH\n",
      "EUROPEAN TURTLE DOVE\n",
      "EVENING GROSBEAK\n",
      "FAIRY BLUEBIRD\n",
      "FAIRY PENGUIN\n",
      "FAIRY TERN\n",
      "FAN TAILED WIDOW\n",
      "FASCIATED WREN\n",
      "FIERY MINIVET\n",
      "FIORDLAND PENGUIN\n",
      "FIRE TAILLED MYZORNIS\n",
      "FLAME BOWERBIRD\n",
      "FLAME TANAGER\n",
      "FRIGATE\n",
      "GAMBELS QUAIL\n",
      "GANG GANG COCKATOO\n",
      "GILA WOODPECKER\n",
      "GILDED FLICKER\n",
      "GLOSSY IBIS\n",
      "GO AWAY BIRD\n",
      "GOLD WING WARBLER\n",
      "GOLDEN BOWER BIRD\n",
      "GOLDEN CHEEKED WARBLER\n",
      "GOLDEN CHLOROPHONIA\n",
      "GOLDEN EAGLE\n",
      "GOLDEN PARAKEET\n",
      "GOLDEN PHEASANT\n",
      "GOLDEN PIPIT\n",
      "GOULDIAN FINCH\n",
      "GRANDALA\n",
      "GRAY CATBIRD\n",
      "GRAY KINGBIRD\n",
      "GRAY PARTRIDGE\n",
      "GREAT GRAY OWL\n",
      "GREAT JACAMAR\n",
      "GREAT KISKADEE\n",
      "GREAT POTOO\n",
      "GREAT TINAMOU\n",
      "GREAT XENOPS\n",
      "GREATER PEWEE\n",
      "GREATOR SAGE GROUSE\n",
      "GREEN BROADBILL\n",
      "GREEN JAY\n",
      "GREEN MAGPIE\n",
      "GREY CUCKOOSHRIKE\n",
      "GREY PLOVER\n",
      "GROVED BILLED ANI\n",
      "GUINEA TURACO\n",
      "GUINEAFOWL\n",
      "GURNEYS PITTA\n",
      "GYRFALCON\n",
      "HAMERKOP\n",
      "HARLEQUIN DUCK\n",
      "HARLEQUIN QUAIL\n",
      "HARPY EAGLE\n",
      "HAWAIIAN GOOSE\n",
      "HAWFINCH\n",
      "HELMET VANGA\n",
      "HEPATIC TANAGER\n",
      "HIMALAYAN BLUETAIL\n",
      "HIMALAYAN MONAL\n",
      "HOATZIN\n",
      "HOODED MERGANSER\n",
      "HOOPOES\n",
      "HORNED GUAN\n",
      "HORNED LARK\n",
      "HORNED SUNGEM\n",
      "HOUSE FINCH\n",
      "HOUSE SPARROW\n",
      "HYACINTH MACAW\n",
      "IBERIAN MAGPIE\n",
      "IBISBILL\n",
      "IMPERIAL SHAQ\n",
      "INCA TERN\n",
      "INDIAN BUSTARD\n",
      "INDIAN PITTA\n",
      "INDIAN ROLLER\n",
      "INDIAN VULTURE\n",
      "INDIGO BUNTING\n",
      "INDIGO FLYCATCHER\n",
      "INLAND DOTTEREL\n",
      "IVORY BILLED ARACARI\n",
      "IVORY GULL\n",
      "IWI\n",
      "JABIRU\n",
      "JACK SNIPE\n",
      "JANDAYA PARAKEET\n",
      "JAPANESE ROBIN\n",
      "JAVA SPARROW\n",
      "JOCOTOCO ANTPITTA\n",
      "KAGU\n",
      "KAKAPO\n",
      "KILLDEAR\n",
      "KING EIDER\n",
      "KING VULTURE\n",
      "KIWI\n",
      "KOOKABURRA\n",
      "LARK BUNTING\n",
      "LAZULI BUNTING\n",
      "LESSER ADJUTANT\n",
      "LILAC ROLLER\n",
      "LITTLE AUK\n",
      "LOGGERHEAD SHRIKE\n",
      "LONG-EARED OWL\n",
      "MAGPIE GOOSE\n",
      "MALABAR HORNBILL\n",
      "MALACHITE KINGFISHER\n",
      "MALAGASY WHITE EYE\n",
      "MALEO\n",
      "MALLARD DUCK\n",
      "MANDRIN DUCK\n",
      "MANGROVE CUCKOO\n",
      "MARABOU STORK\n",
      "MASKED BOOBY\n",
      "MASKED LAPWING\n",
      "MCKAYS BUNTING\n",
      "MIKADO  PHEASANT\n",
      "MOURNING DOVE\n",
      "MYNA\n",
      "NICOBAR PIGEON\n",
      "NOISY FRIARBIRD\n",
      "NORTHERN BEARDLESS TYRANNULET\n",
      "NORTHERN CARDINAL\n",
      "NORTHERN FLICKER\n",
      "NORTHERN FULMAR\n",
      "NORTHERN GANNET\n",
      "NORTHERN GOSHAWK\n",
      "NORTHERN JACANA\n",
      "NORTHERN MOCKINGBIRD\n",
      "NORTHERN PARULA\n",
      "NORTHERN RED BISHOP\n",
      "NORTHERN SHOVELER\n",
      "OCELLATED TURKEY\n",
      "OKINAWA RAIL\n",
      "ORANGE BRESTED BUNTING\n",
      "ORIENTAL BAY OWL\n",
      "OSPREY\n",
      "OSTRICH\n",
      "OVENBIRD\n",
      "OYSTER CATCHER\n",
      "PAINTED BUNTING\n",
      "PALILA\n",
      "PARADISE TANAGER\n",
      "PARAKETT  AKULET\n",
      "PARUS MAJOR\n",
      "PATAGONIAN SIERRA FINCH\n",
      "PEACOCK\n",
      "PEREGRINE FALCON\n",
      "PHILIPPINE EAGLE\n",
      "PINK ROBIN\n",
      "POMARINE JAEGER\n",
      "PUFFIN\n",
      "PURPLE FINCH\n",
      "PURPLE GALLINULE\n",
      "PURPLE MARTIN\n",
      "PURPLE SWAMPHEN\n",
      "PYGMY KINGFISHER\n",
      "QUETZAL\n",
      "RAINBOW LORIKEET\n",
      "RAZORBILL\n",
      "RED BEARDED BEE EATER\n",
      "RED BELLIED PITTA\n",
      "RED BROWED FINCH\n",
      "RED FACED CORMORANT\n",
      "RED FACED WARBLER\n",
      "RED FODY\n",
      "RED HEADED DUCK\n",
      "RED HEADED WOODPECKER\n",
      "RED HONEY CREEPER\n",
      "RED NAPED TROGON\n",
      "RED TAILED HAWK\n",
      "RED TAILED THRUSH\n",
      "RED WINGED BLACKBIRD\n",
      "RED WISKERED BULBUL\n",
      "REGENT BOWERBIRD\n",
      "RING-NECKED PHEASANT\n",
      "ROADRUNNER\n",
      "ROBIN\n",
      "ROCK DOVE\n",
      "ROSY FACED LOVEBIRD\n",
      "ROUGH LEG BUZZARD\n",
      "ROYAL FLYCATCHER\n",
      "RUBY THROATED HUMMINGBIRD\n",
      "RUDY KINGFISHER\n",
      "RUFOUS KINGFISHER\n",
      "RUFUOS MOTMOT\n",
      "SAMATRAN THRUSH\n",
      "SAND MARTIN\n",
      "SANDHILL CRANE\n",
      "SATYR TRAGOPAN\n",
      "SCARLET CROWNED FRUIT DOVE\n",
      "SCARLET IBIS\n",
      "SCARLET MACAW\n",
      "SCARLET TANAGER\n",
      "SHOEBILL\n",
      "SHORT BILLED DOWITCHER\n",
      "SKUA\n",
      "SMITHS LONGSPUR\n",
      "SNOWY EGRET\n",
      "SNOWY OWL\n",
      "SNOWY PLOVER\n",
      "SORA\n",
      "SPANGLED COTINGA\n",
      "SPLENDID WREN\n",
      "SPOON BILED SANDPIPER\n",
      "SPOONBILL\n",
      "SPOTTED CATBIRD\n",
      "SRI LANKA BLUE MAGPIE\n",
      "STEAMER DUCK\n",
      "STORK BILLED KINGFISHER\n",
      "STRAWBERRY FINCH\n",
      "STRIPED OWL\n",
      "STRIPPED MANAKIN\n",
      "STRIPPED SWALLOW\n",
      "SUPERB STARLING\n",
      "SWINHOES PHEASANT\n",
      "TAILORBIRD\n",
      "TAIWAN MAGPIE\n",
      "TAKAHE\n",
      "TASMANIAN HEN\n",
      "TEAL DUCK\n",
      "TIT MOUSE\n",
      "TOUCHAN\n",
      "TOWNSENDS WARBLER\n",
      "TREE SWALLOW\n",
      "TRICOLORED BLACKBIRD\n",
      "TROPICAL KINGBIRD\n",
      "TRUMPTER SWAN\n",
      "TURKEY VULTURE\n",
      "TURQUOISE MOTMOT\n",
      "UMBRELLA BIRD\n",
      "VARIED THRUSH\n",
      "VEERY\n",
      "VENEZUELIAN TROUPIAL\n",
      "VERMILION FLYCATHER\n",
      "VICTORIA CROWNED PIGEON\n",
      "VIOLET GREEN SWALLOW\n",
      "VIOLET TURACO\n",
      "VULTURINE GUINEAFOWL\n",
      "WALL CREAPER\n",
      "WATTLED CURASSOW\n",
      "WATTLED LAPWING\n",
      "WHIMBREL\n",
      "WHITE BROWED CRAKE\n",
      "WHITE CHEEKED TURACO\n",
      "WHITE CRESTED HORNBILL\n",
      "WHITE NECKED RAVEN\n",
      "WHITE TAILED TROPIC\n",
      "WHITE THROATED BEE EATER\n",
      "WILD TURKEY\n",
      "WILSONS BIRD OF PARADISE\n",
      "WOOD DUCK\n",
      "YELLOW BELLIED FLOWERPECKER\n",
      "YELLOW CACIQUE\n",
      "YELLOW HEADED BLACKBIRD\n"
     ]
    },
    {
     "data": {
      "text/plain": [
       "{'ABBOTTS BABBLER': 0,\n",
       " 'ABBOTTS BOOBY': 1,\n",
       " 'ABYSSINIAN GROUND HORNBILL': 2,\n",
       " 'AFRICAN CROWNED CRANE': 3,\n",
       " 'AFRICAN EMERALD CUCKOO': 4,\n",
       " 'AFRICAN FIREFINCH': 5,\n",
       " 'AFRICAN OYSTER CATCHER': 6,\n",
       " 'AFRICAN PIED HORNBILL': 7,\n",
       " 'ALBATROSS': 8,\n",
       " 'ALBERTS TOWHEE': 9,\n",
       " 'ALEXANDRINE PARAKEET': 10,\n",
       " 'ALPINE CHOUGH': 11,\n",
       " 'ALTAMIRA YELLOWTHROAT': 12,\n",
       " 'AMERICAN AVOCET': 13,\n",
       " 'AMERICAN BITTERN': 14,\n",
       " 'AMERICAN COOT': 15,\n",
       " 'AMERICAN FLAMINGO': 16,\n",
       " 'AMERICAN GOLDFINCH': 17,\n",
       " 'AMERICAN KESTREL': 18,\n",
       " 'AMERICAN PIPIT': 19,\n",
       " 'AMERICAN REDSTART': 20,\n",
       " 'AMERICAN WIGEON': 21,\n",
       " 'AMETHYST WOODSTAR': 22,\n",
       " 'ANDEAN GOOSE': 23,\n",
       " 'ANDEAN LAPWING': 24,\n",
       " 'ANDEAN SISKIN': 25,\n",
       " 'ANHINGA': 26,\n",
       " 'ANIANIAU': 27,\n",
       " 'ANNAS HUMMINGBIRD': 28,\n",
       " 'ANTBIRD': 29,\n",
       " 'ANTILLEAN EUPHONIA': 30,\n",
       " 'APAPANE': 31,\n",
       " 'APOSTLEBIRD': 32,\n",
       " 'ARARIPE MANAKIN': 33,\n",
       " 'ASHY STORM PETREL': 34,\n",
       " 'ASHY THRUSHBIRD': 35,\n",
       " 'ASIAN CRESTED IBIS': 36,\n",
       " 'ASIAN DOLLARD BIRD': 37,\n",
       " 'AUCKLAND SHAQ': 38,\n",
       " 'AUSTRAL CANASTERO': 39,\n",
       " 'AUSTRALASIAN FIGBIRD': 40,\n",
       " 'AVADAVAT': 41,\n",
       " 'AZARAS SPINETAIL': 42,\n",
       " 'AZURE BREASTED PITTA': 43,\n",
       " 'AZURE JAY': 44,\n",
       " 'AZURE TANAGER': 45,\n",
       " 'AZURE TIT': 46,\n",
       " 'BAIKAL TEAL': 47,\n",
       " 'BALD EAGLE': 48,\n",
       " 'BALD IBIS': 49,\n",
       " 'BALI STARLING': 50,\n",
       " 'BALTIMORE ORIOLE': 51,\n",
       " 'BANANAQUIT': 52,\n",
       " 'BAND TAILED GUAN': 53,\n",
       " 'BANDED BROADBILL': 54,\n",
       " 'BANDED PITA': 55,\n",
       " 'BANDED STILT': 56,\n",
       " 'BAR-TAILED GODWIT': 57,\n",
       " 'BARN OWL': 58,\n",
       " 'BARN SWALLOW': 59,\n",
       " 'BARRED PUFFBIRD': 60,\n",
       " 'BARROWS GOLDENEYE': 61,\n",
       " 'BAY-BREASTED WARBLER': 62,\n",
       " 'BEARDED BARBET': 63,\n",
       " 'BEARDED BELLBIRD': 64,\n",
       " 'BEARDED REEDLING': 65,\n",
       " 'BELTED KINGFISHER': 66,\n",
       " 'BIRD OF PARADISE': 67,\n",
       " 'BLACK & YELLOW BROADBILL': 68,\n",
       " 'BLACK BAZA': 69,\n",
       " 'BLACK COCKATO': 70,\n",
       " 'BLACK FRANCOLIN': 71,\n",
       " 'BLACK SKIMMER': 72,\n",
       " 'BLACK SWAN': 73,\n",
       " 'BLACK TAIL CRAKE': 74,\n",
       " 'BLACK THROATED BUSHTIT': 75,\n",
       " 'BLACK THROATED WARBLER': 76,\n",
       " 'BLACK VENTED SHEARWATER': 77,\n",
       " 'BLACK VULTURE': 78,\n",
       " 'BLACK-CAPPED CHICKADEE': 79,\n",
       " 'BLACK-NECKED GREBE': 80,\n",
       " 'BLACK-THROATED SPARROW': 81,\n",
       " 'BLACKBURNIAM WARBLER': 82,\n",
       " 'BLONDE CRESTED WOODPECKER': 83,\n",
       " 'BLOOD PHEASANT': 84,\n",
       " 'BLUE COAU': 85,\n",
       " 'BLUE DACNIS': 86,\n",
       " 'BLUE GROUSE': 87,\n",
       " 'BLUE HERON': 88,\n",
       " 'BLUE MALKOHA': 89,\n",
       " 'BLUE THROATED TOUCANET': 90,\n",
       " 'BOBOLINK': 91,\n",
       " 'BORNEAN BRISTLEHEAD': 92,\n",
       " 'BORNEAN LEAFBIRD': 93,\n",
       " 'BORNEAN PHEASANT': 94,\n",
       " 'BRANDT CORMARANT': 95,\n",
       " 'BREWERS BLACKBIRD': 96,\n",
       " 'BROWN CREPPER': 97,\n",
       " 'BROWN NOODY': 98,\n",
       " 'BROWN THRASHER': 99,\n",
       " 'BUFFLEHEAD': 100,\n",
       " 'BULWERS PHEASANT': 101,\n",
       " 'BURCHELLS COURSER': 102,\n",
       " 'BUSH TURKEY': 103,\n",
       " 'CAATINGA CACHOLOTE': 104,\n",
       " 'CACTUS WREN': 105,\n",
       " 'CALIFORNIA CONDOR': 106,\n",
       " 'CALIFORNIA GULL': 107,\n",
       " 'CALIFORNIA QUAIL': 108,\n",
       " 'CAMPO FLICKER': 109,\n",
       " 'CANARY': 110,\n",
       " 'CAPE GLOSSY STARLING': 111,\n",
       " 'CAPE LONGCLAW': 112,\n",
       " 'CAPE MAY WARBLER': 113,\n",
       " 'CAPE ROCK THRUSH': 114,\n",
       " 'CAPPED HERON': 115,\n",
       " 'CAPUCHINBIRD': 116,\n",
       " 'CARMINE BEE-EATER': 117,\n",
       " 'CASPIAN TERN': 118,\n",
       " 'CASSOWARY': 119,\n",
       " 'CEDAR WAXWING': 120,\n",
       " 'CERULEAN WARBLER': 121,\n",
       " 'CHARA DE COLLAR': 122,\n",
       " 'CHATTERING LORY': 123,\n",
       " 'CHESTNET BELLIED EUPHONIA': 124,\n",
       " 'CHINESE BAMBOO PARTRIDGE': 125,\n",
       " 'CHINESE POND HERON': 126,\n",
       " 'CHIPPING SPARROW': 127,\n",
       " 'CHUCAO TAPACULO': 128,\n",
       " 'CHUKAR PARTRIDGE': 129,\n",
       " 'CINNAMON ATTILA': 130,\n",
       " 'CINNAMON FLYCATCHER': 131,\n",
       " 'CINNAMON TEAL': 132,\n",
       " 'CLARKS NUTCRACKER': 133,\n",
       " 'COCK OF THE  ROCK': 134,\n",
       " 'COCKATOO': 135,\n",
       " 'COLLARED ARACARI': 136,\n",
       " 'COMMON FIRECREST': 137,\n",
       " 'COMMON GRACKLE': 138,\n",
       " 'COMMON HOUSE MARTIN': 139,\n",
       " 'COMMON IORA': 140,\n",
       " 'COMMON LOON': 141,\n",
       " 'COMMON POORWILL': 142,\n",
       " 'COMMON STARLING': 143,\n",
       " 'COPPERY TAILED COUCAL': 144,\n",
       " 'CRAB PLOVER': 145,\n",
       " 'CRANE HAWK': 146,\n",
       " 'CREAM COLORED WOODPECKER': 147,\n",
       " 'CRESTED AUKLET': 148,\n",
       " 'CRESTED CARACARA': 149,\n",
       " 'CRESTED COUA': 150,\n",
       " 'CRESTED FIREBACK': 151,\n",
       " 'CRESTED KINGFISHER': 152,\n",
       " 'CRESTED NUTHATCH': 153,\n",
       " 'CRESTED OROPENDOLA': 154,\n",
       " 'CRESTED SHRIKETIT': 155,\n",
       " 'CRIMSON CHAT': 156,\n",
       " 'CRIMSON SUNBIRD': 157,\n",
       " 'CROW': 158,\n",
       " 'CROWNED PIGEON': 159,\n",
       " 'CUBAN TODY': 160,\n",
       " 'CUBAN TROGON': 161,\n",
       " 'CURL CRESTED ARACURI': 162,\n",
       " 'D-ARNAUDS BARBET': 163,\n",
       " 'DALMATIAN PELICAN': 164,\n",
       " 'DARJEELING WOODPECKER': 165,\n",
       " 'DARK EYED JUNCO': 166,\n",
       " 'DARWINS FLYCATCHER': 167,\n",
       " 'DAURIAN REDSTART': 168,\n",
       " 'DEMOISELLE CRANE': 169,\n",
       " 'DOUBLE BARRED FINCH': 170,\n",
       " 'DOUBLE BRESTED CORMARANT': 171,\n",
       " 'DOUBLE EYED FIG PARROT': 172,\n",
       " 'DOWNY WOODPECKER': 173,\n",
       " 'DUSKY LORY': 174,\n",
       " 'DUSKY ROBIN': 175,\n",
       " 'EARED PITA': 176,\n",
       " 'EASTERN BLUEBIRD': 177,\n",
       " 'EASTERN BLUEBONNET': 178,\n",
       " 'EASTERN GOLDEN WEAVER': 179,\n",
       " 'EASTERN MEADOWLARK': 180,\n",
       " 'EASTERN ROSELLA': 181,\n",
       " 'EASTERN TOWEE': 182,\n",
       " 'EASTERN WIP POOR WILL': 183,\n",
       " 'ECUADORIAN HILLSTAR': 184,\n",
       " 'EGYPTIAN GOOSE': 185,\n",
       " 'ELEGANT TROGON': 186,\n",
       " 'ELLIOTS  PHEASANT': 187,\n",
       " 'EMERALD TANAGER': 188,\n",
       " 'EMPEROR PENGUIN': 189,\n",
       " 'EMU': 190,\n",
       " 'ENGGANO MYNA': 191,\n",
       " 'EURASIAN BULLFINCH': 192,\n",
       " 'EURASIAN GOLDEN ORIOLE': 193,\n",
       " 'EURASIAN MAGPIE': 194,\n",
       " 'EUROPEAN GOLDFINCH': 195,\n",
       " 'EUROPEAN TURTLE DOVE': 196,\n",
       " 'EVENING GROSBEAK': 197,\n",
       " 'FAIRY BLUEBIRD': 198,\n",
       " 'FAIRY PENGUIN': 199,\n",
       " 'FAIRY TERN': 200,\n",
       " 'FAN TAILED WIDOW': 201,\n",
       " 'FASCIATED WREN': 202,\n",
       " 'FIERY MINIVET': 203,\n",
       " 'FIORDLAND PENGUIN': 204,\n",
       " 'FIRE TAILLED MYZORNIS': 205,\n",
       " 'FLAME BOWERBIRD': 206,\n",
       " 'FLAME TANAGER': 207,\n",
       " 'FRIGATE': 208,\n",
       " 'GAMBELS QUAIL': 209,\n",
       " 'GANG GANG COCKATOO': 210,\n",
       " 'GILA WOODPECKER': 211,\n",
       " 'GILDED FLICKER': 212,\n",
       " 'GLOSSY IBIS': 213,\n",
       " 'GO AWAY BIRD': 214,\n",
       " 'GOLD WING WARBLER': 215,\n",
       " 'GOLDEN BOWER BIRD': 216,\n",
       " 'GOLDEN CHEEKED WARBLER': 217,\n",
       " 'GOLDEN CHLOROPHONIA': 218,\n",
       " 'GOLDEN EAGLE': 219,\n",
       " 'GOLDEN PARAKEET': 220,\n",
       " 'GOLDEN PHEASANT': 221,\n",
       " 'GOLDEN PIPIT': 222,\n",
       " 'GOULDIAN FINCH': 223,\n",
       " 'GRANDALA': 224,\n",
       " 'GRAY CATBIRD': 225,\n",
       " 'GRAY KINGBIRD': 226,\n",
       " 'GRAY PARTRIDGE': 227,\n",
       " 'GREAT GRAY OWL': 228,\n",
       " 'GREAT JACAMAR': 229,\n",
       " 'GREAT KISKADEE': 230,\n",
       " 'GREAT POTOO': 231,\n",
       " 'GREAT TINAMOU': 232,\n",
       " 'GREAT XENOPS': 233,\n",
       " 'GREATER PEWEE': 234,\n",
       " 'GREATOR SAGE GROUSE': 235,\n",
       " 'GREEN BROADBILL': 236,\n",
       " 'GREEN JAY': 237,\n",
       " 'GREEN MAGPIE': 238,\n",
       " 'GREY CUCKOOSHRIKE': 239,\n",
       " 'GREY PLOVER': 240,\n",
       " 'GROVED BILLED ANI': 241,\n",
       " 'GUINEA TURACO': 242,\n",
       " 'GUINEAFOWL': 243,\n",
       " 'GURNEYS PITTA': 244,\n",
       " 'GYRFALCON': 245,\n",
       " 'HAMERKOP': 246,\n",
       " 'HARLEQUIN DUCK': 247,\n",
       " 'HARLEQUIN QUAIL': 248,\n",
       " 'HARPY EAGLE': 249,\n",
       " 'HAWAIIAN GOOSE': 250,\n",
       " 'HAWFINCH': 251,\n",
       " 'HELMET VANGA': 252,\n",
       " 'HEPATIC TANAGER': 253,\n",
       " 'HIMALAYAN BLUETAIL': 254,\n",
       " 'HIMALAYAN MONAL': 255,\n",
       " 'HOATZIN': 256,\n",
       " 'HOODED MERGANSER': 257,\n",
       " 'HOOPOES': 258,\n",
       " 'HORNED GUAN': 259,\n",
       " 'HORNED LARK': 260,\n",
       " 'HORNED SUNGEM': 261,\n",
       " 'HOUSE FINCH': 262,\n",
       " 'HOUSE SPARROW': 263,\n",
       " 'HYACINTH MACAW': 264,\n",
       " 'IBERIAN MAGPIE': 265,\n",
       " 'IBISBILL': 266,\n",
       " 'IMPERIAL SHAQ': 267,\n",
       " 'INCA TERN': 268,\n",
       " 'INDIAN BUSTARD': 269,\n",
       " 'INDIAN PITTA': 270,\n",
       " 'INDIAN ROLLER': 271,\n",
       " 'INDIAN VULTURE': 272,\n",
       " 'INDIGO BUNTING': 273,\n",
       " 'INDIGO FLYCATCHER': 274,\n",
       " 'INLAND DOTTEREL': 275,\n",
       " 'IVORY BILLED ARACARI': 276,\n",
       " 'IVORY GULL': 277,\n",
       " 'IWI': 278,\n",
       " 'JABIRU': 279,\n",
       " 'JACK SNIPE': 280,\n",
       " 'JANDAYA PARAKEET': 281,\n",
       " 'JAPANESE ROBIN': 282,\n",
       " 'JAVA SPARROW': 283,\n",
       " 'JOCOTOCO ANTPITTA': 284,\n",
       " 'KAGU': 285,\n",
       " 'KAKAPO': 286,\n",
       " 'KILLDEAR': 287,\n",
       " 'KING EIDER': 288,\n",
       " 'KING VULTURE': 289,\n",
       " 'KIWI': 290,\n",
       " 'KOOKABURRA': 291,\n",
       " 'LARK BUNTING': 292,\n",
       " 'LAZULI BUNTING': 293,\n",
       " 'LESSER ADJUTANT': 294,\n",
       " 'LILAC ROLLER': 295,\n",
       " 'LITTLE AUK': 296,\n",
       " 'LOGGERHEAD SHRIKE': 297,\n",
       " 'LONG-EARED OWL': 298,\n",
       " 'MAGPIE GOOSE': 299,\n",
       " 'MALABAR HORNBILL': 300,\n",
       " 'MALACHITE KINGFISHER': 301,\n",
       " 'MALAGASY WHITE EYE': 302,\n",
       " 'MALEO': 303,\n",
       " 'MALLARD DUCK': 304,\n",
       " 'MANDRIN DUCK': 305,\n",
       " 'MANGROVE CUCKOO': 306,\n",
       " 'MARABOU STORK': 307,\n",
       " 'MASKED BOOBY': 308,\n",
       " 'MASKED LAPWING': 309,\n",
       " 'MCKAYS BUNTING': 310,\n",
       " 'MIKADO  PHEASANT': 311,\n",
       " 'MOURNING DOVE': 312,\n",
       " 'MYNA': 313,\n",
       " 'NICOBAR PIGEON': 314,\n",
       " 'NOISY FRIARBIRD': 315,\n",
       " 'NORTHERN BEARDLESS TYRANNULET': 316,\n",
       " 'NORTHERN CARDINAL': 317,\n",
       " 'NORTHERN FLICKER': 318,\n",
       " 'NORTHERN FULMAR': 319,\n",
       " 'NORTHERN GANNET': 320,\n",
       " 'NORTHERN GOSHAWK': 321,\n",
       " 'NORTHERN JACANA': 322,\n",
       " 'NORTHERN MOCKINGBIRD': 323,\n",
       " 'NORTHERN PARULA': 324,\n",
       " 'NORTHERN RED BISHOP': 325,\n",
       " 'NORTHERN SHOVELER': 326,\n",
       " 'OCELLATED TURKEY': 327,\n",
       " 'OKINAWA RAIL': 328,\n",
       " 'ORANGE BRESTED BUNTING': 329,\n",
       " 'ORIENTAL BAY OWL': 330,\n",
       " 'OSPREY': 331,\n",
       " 'OSTRICH': 332,\n",
       " 'OVENBIRD': 333,\n",
       " 'OYSTER CATCHER': 334,\n",
       " 'PAINTED BUNTING': 335,\n",
       " 'PALILA': 336,\n",
       " 'PARADISE TANAGER': 337,\n",
       " 'PARAKETT  AKULET': 338,\n",
       " 'PARUS MAJOR': 339,\n",
       " 'PATAGONIAN SIERRA FINCH': 340,\n",
       " 'PEACOCK': 341,\n",
       " 'PEREGRINE FALCON': 342,\n",
       " 'PHILIPPINE EAGLE': 343,\n",
       " 'PINK ROBIN': 344,\n",
       " 'POMARINE JAEGER': 345,\n",
       " 'PUFFIN': 346,\n",
       " 'PURPLE FINCH': 347,\n",
       " 'PURPLE GALLINULE': 348,\n",
       " 'PURPLE MARTIN': 349,\n",
       " 'PURPLE SWAMPHEN': 350,\n",
       " 'PYGMY KINGFISHER': 351,\n",
       " 'QUETZAL': 352,\n",
       " 'RAINBOW LORIKEET': 353,\n",
       " 'RAZORBILL': 354,\n",
       " 'RED BEARDED BEE EATER': 355,\n",
       " 'RED BELLIED PITTA': 356,\n",
       " 'RED BROWED FINCH': 357,\n",
       " 'RED FACED CORMORANT': 358,\n",
       " 'RED FACED WARBLER': 359,\n",
       " 'RED FODY': 360,\n",
       " 'RED HEADED DUCK': 361,\n",
       " 'RED HEADED WOODPECKER': 362,\n",
       " 'RED HONEY CREEPER': 363,\n",
       " 'RED NAPED TROGON': 364,\n",
       " 'RED TAILED HAWK': 365,\n",
       " 'RED TAILED THRUSH': 366,\n",
       " 'RED WINGED BLACKBIRD': 367,\n",
       " 'RED WISKERED BULBUL': 368,\n",
       " 'REGENT BOWERBIRD': 369,\n",
       " 'RING-NECKED PHEASANT': 370,\n",
       " 'ROADRUNNER': 371,\n",
       " 'ROBIN': 372,\n",
       " 'ROCK DOVE': 373,\n",
       " 'ROSY FACED LOVEBIRD': 374,\n",
       " 'ROUGH LEG BUZZARD': 375,\n",
       " 'ROYAL FLYCATCHER': 376,\n",
       " 'RUBY THROATED HUMMINGBIRD': 377,\n",
       " 'RUDY KINGFISHER': 378,\n",
       " 'RUFOUS KINGFISHER': 379,\n",
       " 'RUFUOS MOTMOT': 380,\n",
       " 'SAMATRAN THRUSH': 381,\n",
       " 'SAND MARTIN': 382,\n",
       " 'SANDHILL CRANE': 383,\n",
       " 'SATYR TRAGOPAN': 384,\n",
       " 'SCARLET CROWNED FRUIT DOVE': 385,\n",
       " 'SCARLET IBIS': 386,\n",
       " 'SCARLET MACAW': 387,\n",
       " 'SCARLET TANAGER': 388,\n",
       " 'SHOEBILL': 389,\n",
       " 'SHORT BILLED DOWITCHER': 390,\n",
       " 'SKUA': 391,\n",
       " 'SMITHS LONGSPUR': 392,\n",
       " 'SNOWY EGRET': 393,\n",
       " 'SNOWY OWL': 394,\n",
       " 'SNOWY PLOVER': 395,\n",
       " 'SORA': 396,\n",
       " 'SPANGLED COTINGA': 397,\n",
       " 'SPLENDID WREN': 398,\n",
       " 'SPOON BILED SANDPIPER': 399,\n",
       " 'SPOONBILL': 400,\n",
       " 'SPOTTED CATBIRD': 401,\n",
       " 'SRI LANKA BLUE MAGPIE': 402,\n",
       " 'STEAMER DUCK': 403,\n",
       " 'STORK BILLED KINGFISHER': 404,\n",
       " 'STRAWBERRY FINCH': 405,\n",
       " 'STRIPED OWL': 406,\n",
       " 'STRIPPED MANAKIN': 407,\n",
       " 'STRIPPED SWALLOW': 408,\n",
       " 'SUPERB STARLING': 409,\n",
       " 'SWINHOES PHEASANT': 410,\n",
       " 'TAILORBIRD': 411,\n",
       " 'TAIWAN MAGPIE': 412,\n",
       " 'TAKAHE': 413,\n",
       " 'TASMANIAN HEN': 414,\n",
       " 'TEAL DUCK': 415,\n",
       " 'TIT MOUSE': 416,\n",
       " 'TOUCHAN': 417,\n",
       " 'TOWNSENDS WARBLER': 418,\n",
       " 'TREE SWALLOW': 419,\n",
       " 'TRICOLORED BLACKBIRD': 420,\n",
       " 'TROPICAL KINGBIRD': 421,\n",
       " 'TRUMPTER SWAN': 422,\n",
       " 'TURKEY VULTURE': 423,\n",
       " 'TURQUOISE MOTMOT': 424,\n",
       " 'UMBRELLA BIRD': 425,\n",
       " 'VARIED THRUSH': 426,\n",
       " 'VEERY': 427,\n",
       " 'VENEZUELIAN TROUPIAL': 428,\n",
       " 'VERMILION FLYCATHER': 429,\n",
       " 'VICTORIA CROWNED PIGEON': 430,\n",
       " 'VIOLET GREEN SWALLOW': 431,\n",
       " 'VIOLET TURACO': 432,\n",
       " 'VULTURINE GUINEAFOWL': 433,\n",
       " 'WALL CREAPER': 434,\n",
       " 'WATTLED CURASSOW': 435,\n",
       " 'WATTLED LAPWING': 436,\n",
       " 'WHIMBREL': 437,\n",
       " 'WHITE BROWED CRAKE': 438,\n",
       " 'WHITE CHEEKED TURACO': 439,\n",
       " 'WHITE CRESTED HORNBILL': 440,\n",
       " 'WHITE NECKED RAVEN': 441,\n",
       " 'WHITE TAILED TROPIC': 442,\n",
       " 'WHITE THROATED BEE EATER': 443,\n",
       " 'WILD TURKEY': 444,\n",
       " 'WILSONS BIRD OF PARADISE': 445,\n",
       " 'WOOD DUCK': 446,\n",
       " 'YELLOW BELLIED FLOWERPECKER': 447,\n",
       " 'YELLOW CACIQUE': 448,\n",
       " 'YELLOW HEADED BLACKBIRD': 449}"
      ]
     },
     "execution_count": 93,
     "metadata": {},
     "output_type": "execute_result"
    }
   ],
   "source": [
    "class_map = train_datagen.class_indices\n",
    "classes = []\n",
    "for key in class_map.keys():\n",
    "    classes.append(key)\n",
    "    print(key)\n",
    "train_datagen.class_indices"
   ]
  },
  {
   "cell_type": "code",
   "execution_count": 19,
   "metadata": {},
   "outputs": [],
   "source": [
    "import numpy as np\n",
    "from tensorflow.keras.preprocessing import image\n",
    "def predict_image(filename, model):\n",
    "    img_ = image.load_img(filename, target_size=(224, 224, 3))\n",
    "    img_array = image.img_to_array(img_)\n",
    "    img_array = np.expand_dims(img_array, axis=0)\n",
    "    img_array /= 255.\n",
    "    prediction = model.predict(img_array)\n",
    "    \n",
    "    index = np.argmax(prediction)\n",
    "    print(prediction.shape)\n",
    "    print(prediction)\n",
    "    print(prediction[0][index]);\n",
    "#     res=classes[index]\n",
    "#     print(res)\n",
    "  \n",
    "    \n",
    "# def predict_image(filename, model):\n",
    "#     img_ = image.load_img(filename, target_size=(224,224))\n",
    "#     img_array = image.img_to_array(img_)\n",
    "#     img_processed = np.expand_dims(img_array, axis=0)\n",
    "#     img_processed /= 255.\n",
    "    \n",
    "#     prediction = model.predict(img_processed)\n",
    "#     print(prediction)\n",
    "#     index = np.argmax(prediction[0][0][0])\n",
    "#     print(index)\n",
    "#   #  plt.imshow(img_array)\n",
    "#   #  plt.title(\"prediction - {} \".format(str(classes[index]).title()),size=18,color='red')\n",
    "#   #  plt.imshow(img_array)\n",
    "    "
   ]
  },
  {
   "cell_type": "code",
   "execution_count": 20,
   "metadata": {
    "scrolled": true
   },
   "outputs": [
    {
     "name": "stdout",
     "output_type": "stream",
     "text": [
      "1/1 [==============================] - 2s 2s/step\n",
      "(1, 100)\n",
      "[[3.23730331e-09 9.81303453e-01 7.35823733e-06 1.41376887e-07\n",
      "  1.18751231e-09 1.23300993e-07 5.45479717e-10 1.47890455e-08\n",
      "  1.43688958e-04 8.05583067e-09 1.19807498e-06 3.13602655e-09\n",
      "  7.32960643e-08 1.71989726e-04 1.34375089e-08 3.94704269e-11\n",
      "  2.13336489e-06 1.30957956e-08 5.55767432e-10 2.78125939e-10\n",
      "  9.87547821e-10 2.92116020e-08 1.02180788e-08 2.32370639e-05\n",
      "  5.70891281e-08 8.12986034e-09 5.29123099e-05 4.92428249e-08\n",
      "  9.62968455e-11 1.29706077e-08 8.34648670e-12 2.88987678e-08\n",
      "  9.14253118e-09 6.77941807e-06 3.81352443e-08 3.78686558e-08\n",
      "  1.30028173e-03 5.10700060e-09 6.11597148e-04 3.92113861e-08\n",
      "  7.48375228e-09 4.34910913e-10 1.37214684e-09 4.67050327e-08\n",
      "  1.73167454e-08 8.86576576e-11 2.80937047e-06 3.88907129e-09\n",
      "  6.37160795e-08 5.46554045e-04 1.44929904e-02 2.27690963e-10\n",
      "  3.31194877e-10 1.17425408e-07 1.42393128e-08 4.06072065e-09\n",
      "  5.68362566e-06 4.70283368e-09 1.15065211e-06 1.41541792e-08\n",
      "  5.78237803e-07 1.58539099e-10 4.33688016e-11 6.01061156e-09\n",
      "  1.22246808e-08 3.82126956e-07 1.71135554e-07 6.04778506e-07\n",
      "  6.74361678e-10 3.85785004e-09 2.18753696e-10 7.68941633e-10\n",
      "  3.85176418e-06 2.24882202e-09 7.09374226e-11 2.38368925e-09\n",
      "  4.27579430e-08 6.22482554e-09 4.51116300e-08 3.53299612e-10\n",
      "  2.52882497e-08 1.74910098e-09 7.03100511e-09 7.01249633e-07\n",
      "  2.45422926e-09 1.67811959e-06 8.90539997e-09 5.96176386e-10\n",
      "  8.58936342e-04 8.23951467e-08 8.91597622e-08 2.31887238e-08\n",
      "  6.08519901e-09 2.57984901e-11 4.22281391e-06 1.93638974e-04\n",
      "  1.11936957e-08 7.34217096e-08 2.59963592e-04 7.22712468e-09]]\n",
      "0.98130345\n"
     ]
    }
   ],
   "source": [
    "from tensorflow.keras.models import load_model\n",
    "model=load_model('bird_classification_inceptionv3_100_classses_v1.h5')\n",
    "predict_image('test/ABBOTTS BOOBY/1.jpg',model)"
   ]
  },
  {
   "cell_type": "code",
   "execution_count": null,
   "metadata": {},
   "outputs": [],
   "source": []
  },
  {
   "cell_type": "code",
   "execution_count": null,
   "metadata": {},
   "outputs": [],
   "source": []
  }
 ],
 "metadata": {
  "kernelspec": {
   "display_name": "Python 3 (ipykernel)",
   "language": "python",
   "name": "python3"
  },
  "language_info": {
   "codemirror_mode": {
    "name": "ipython",
    "version": 3
   },
   "file_extension": ".py",
   "mimetype": "text/x-python",
   "name": "python",
   "nbconvert_exporter": "python",
   "pygments_lexer": "ipython3",
   "version": "3.9.12"
  }
 },
 "nbformat": 4,
 "nbformat_minor": 4
}
